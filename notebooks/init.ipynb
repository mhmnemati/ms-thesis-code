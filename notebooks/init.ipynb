{
 "cells": [
  {
   "cell_type": "code",
   "execution_count": 1,
   "metadata": {},
   "outputs": [],
   "source": [
    "import re\n",
    "import mne\n",
    "import wfdb\n",
    "import glob\n",
    "import pathlib\n",
    "import numpy as np"
   ]
  },
  {
   "cell_type": "code",
   "execution_count": 30,
   "metadata": {},
   "outputs": [],
   "source": [
    "path = \"../data/downloads/sleep_edfx\"\n",
    "\n",
    "records = glob.glob(f\"{path}/**/*.edf\", recursive=True)"
   ]
  },
  {
   "cell_type": "code",
   "execution_count": 33,
   "metadata": {},
   "outputs": [
    {
     "name": "stdout",
     "output_type": "stream",
     "text": [
      "Extracting EDF parameters from /workspaces/data/downloads/sleep_edfx/sleep-cassette/SC4001E0-PSG.edf...\n",
      "EDF file detected\n",
      "Channel 'EEG Fpz-Cz' recognized as type EEG (renamed to 'Fpz-Cz').\n",
      "Channel 'EEG Pz-Oz' recognized as type EEG (renamed to 'Pz-Oz').\n",
      "Channel 'EOG horizontal' recognized as type EOG (renamed to 'horizontal').\n",
      "Channel 'Resp oro-nasal' recognized as type RESP (renamed to 'oro-nasal').\n",
      "Channel 'EMG submental' recognized as type EMG (renamed to 'submental').\n",
      "Channel 'Temp rectal' recognized as type TEMP (renamed to 'rectal').\n",
      "Setting channel info structure...\n",
      "Creating raw.info structure...\n"
     ]
    }
   ],
   "source": [
    "record = records[0]\n",
    "raw = mne.io.read_raw_edf(record, infer_types=True, stim_channel=\"Event marker\")\n",
    "picks = mne.pick_types(raw.info, eeg=True)\n",
    "channels = raw.info[\"ch_names\"]\n",
    "data = raw.get_data(picks=picks)\n",
    "# if f\"{record}.seizures\" in seizures:\n",
    "#     seizure = wfdb.io.rdann(record, extension=\"seizures\")\n",
    "#     start = seizure.sample[0] / raw.info[\"sfreq\"]\n",
    "#     finish = seizure.sample[1] / raw.info[\"sfreq\"]\n",
    "#     raw.set_annotations(mne.Annotations(onset=start, duration=(finish - start), description=\"seizure\"))"
   ]
  },
  {
   "cell_type": "code",
   "execution_count": 32,
   "metadata": {},
   "outputs": [
    {
     "name": "stdout",
     "output_type": "stream",
     "text": [
      "EEG Fpz-Cz\n",
      "EEG Pz-Oz\n",
      "EOG horizontal\n",
      "Resp oro-nasal\n",
      "EMG submental\n",
      "Temp rectal\n"
     ]
    }
   ],
   "source": [
    "for pick in picks:\n",
    "    print(channels[pick])"
   ]
  },
  {
   "cell_type": "code",
   "execution_count": 22,
   "metadata": {},
   "outputs": [
    {
     "data": {
      "text/plain": [
       "['Fpz-Cz',\n",
       " 'Pz-Oz',\n",
       " 'horizontal',\n",
       " 'oro-nasal',\n",
       " 'submental',\n",
       " 'rectal',\n",
       " 'Event marker']"
      ]
     },
     "execution_count": 22,
     "metadata": {},
     "output_type": "execute_result"
    }
   ],
   "source": [
    "raw.info[\"ch_names\"]"
   ]
  },
  {
   "cell_type": "code",
   "execution_count": 29,
   "metadata": {},
   "outputs": [],
   "source": [
    "montage = mne.channels.make_standard_montage('standard_1020')\n",
    "ch_pos = montage.get_positions()[\"ch_pos\"]\n",
    "positions = {key.upper(): val for key, val in ch_pos.items()}"
   ]
  },
  {
   "cell_type": "code",
   "execution_count": 33,
   "metadata": {},
   "outputs": [
    {
     "name": "stdout",
     "output_type": "stream",
     "text": [
      "[-0.0294367  0.0839171 -0.00699  ]\n",
      "[-0.0702629  0.0424743 -0.01142  ]\n",
      "-------------------\n",
      "[-0.0702629  0.0424743 -0.01142  ]\n",
      "[-0.0841611 -0.0160187 -0.009346 ]\n",
      "-------------------\n",
      "[-0.0841611 -0.0160187 -0.009346 ]\n",
      "[-0.0724343 -0.0734527 -0.002487 ]\n",
      "-------------------\n",
      "[-0.0724343 -0.0734527 -0.002487 ]\n",
      "[-0.0294134 -0.112449   0.008839 ]\n",
      "-------------------\n",
      "[-0.0294367  0.0839171 -0.00699  ]\n",
      "[-0.0502438  0.0531112  0.042192 ]\n",
      "-------------------\n",
      "[-0.0502438  0.0531112  0.042192 ]\n",
      "[-0.0653581 -0.0116317  0.064358 ]\n",
      "-------------------\n",
      "[-0.0653581 -0.0116317  0.064358 ]\n",
      "[-0.0530073 -0.0787878  0.05594  ]\n",
      "-------------------\n",
      "[-0.0530073 -0.0787878  0.05594  ]\n",
      "[-0.0294134 -0.112449   0.008839 ]\n",
      "-------------------\n",
      "[ 0.0298723  0.0848959 -0.00708  ]\n",
      "[0.0518362 0.0543048 0.040814 ]\n",
      "-------------------\n",
      "[0.0518362 0.0543048 0.040814 ]\n",
      "[ 0.0671179 -0.0109003  0.06358  ]\n",
      "-------------------\n",
      "[ 0.0671179 -0.0109003  0.06358  ]\n",
      "[ 0.0556667 -0.0785602  0.056561 ]\n",
      "-------------------\n",
      "[ 0.0556667 -0.0785602  0.056561 ]\n",
      "[ 0.0298426 -0.112156   0.0088   ]\n",
      "-------------------\n",
      "[ 0.0298723  0.0848959 -0.00708  ]\n",
      "[ 0.0730431  0.0444217 -0.012    ]\n",
      "-------------------\n",
      "[ 0.0730431  0.0444217 -0.012    ]\n",
      "[ 0.0850799 -0.0150203 -0.00949  ]\n",
      "-------------------\n",
      "[ 0.0850799 -0.0150203 -0.00949  ]\n",
      "[ 0.0730557 -0.0730683 -0.00254  ]\n",
      "-------------------\n",
      "[ 0.0730557 -0.0730683 -0.00254  ]\n",
      "[ 0.0298426 -0.112156   0.0088   ]\n",
      "-------------------\n",
      "[0.0003122 0.058512  0.066462 ]\n",
      "[ 0.0004009 -0.009167   0.100244 ]\n",
      "-------------------\n",
      "[ 0.0004009 -0.009167   0.100244 ]\n",
      "[ 0.0003247 -0.081115   0.082615 ]\n",
      "-------------------\n",
      "[-0.0724343 -0.0734527 -0.002487 ]\n",
      "[-0.0841611 -0.0160187 -0.009346 ]\n",
      "-------------------\n",
      "[-0.0841611 -0.0160187 -0.009346 ]\n",
      "[-0.0840759  0.0145673 -0.050429 ]\n",
      "-------------------\n",
      "[-0.0840759  0.0145673 -0.050429 ]\n",
      "[ 0.0841131  0.0143647 -0.050538 ]\n",
      "-------------------\n",
      "[ 0.0841131  0.0143647 -0.050538 ]\n",
      "[ 0.0850799 -0.0150203 -0.00949  ]\n",
      "-------------------\n",
      "[ 0.0850799 -0.0150203 -0.00949  ]\n",
      "[ 0.0730557 -0.0730683 -0.00254  ]\n",
      "-------------------\n"
     ]
    }
   ],
   "source": [
    "channels = raw.info[\"ch_names\"]\n",
    "sources = np.zeros((len(channels), 3))\n",
    "targets = np.zeros((len(channels), 3))\n",
    "for idx, channel in enumerate(channels):\n",
    "    electrodes = channel.split(\"-\")\n",
    "    sources[idx] = positions[electrodes[0]]\n",
    "    targets[idx] = positions[electrodes[1]]\n",
    "    print(positions[electrodes[0]])\n",
    "    print(positions[electrodes[1]])\n",
    "    print(\"-------------------\")"
   ]
  },
  {
   "cell_type": "code",
   "execution_count": 28,
   "metadata": {},
   "outputs": [
    {
     "name": "stdout",
     "output_type": "stream",
     "text": [
      "[-0.0294367  0.0839171 -0.00699  ]\n",
      "[-0.0702629  0.0424743 -0.01142  ]\n",
      "------------------\n",
      "[-0.0702629  0.0424743 -0.01142  ]\n",
      "[-0.0841611 -0.0160187 -0.009346 ]\n",
      "------------------\n",
      "[-0.0841611 -0.0160187 -0.009346 ]\n",
      "[-0.0724343 -0.0734527 -0.002487 ]\n",
      "------------------\n",
      "[-0.0724343 -0.0734527 -0.002487 ]\n",
      "[-0.0294134 -0.112449   0.008839 ]\n",
      "------------------\n",
      "[-0.0294367  0.0839171 -0.00699  ]\n",
      "[-0.0502438  0.0531112  0.042192 ]\n",
      "------------------\n",
      "[-0.0502438  0.0531112  0.042192 ]\n",
      "[-0.0653581 -0.0116317  0.064358 ]\n",
      "------------------\n",
      "[-0.0653581 -0.0116317  0.064358 ]\n",
      "[-0.0530073 -0.0787878  0.05594  ]\n",
      "------------------\n",
      "[-0.0530073 -0.0787878  0.05594  ]\n",
      "[-0.0294134 -0.112449   0.008839 ]\n",
      "------------------\n",
      "[ 0.0298723  0.0848959 -0.00708  ]\n",
      "[0.0518362 0.0543048 0.040814 ]\n",
      "------------------\n",
      "[0.0518362 0.0543048 0.040814 ]\n",
      "[ 0.0671179 -0.0109003  0.06358  ]\n",
      "------------------\n",
      "[ 0.0671179 -0.0109003  0.06358  ]\n",
      "[ 0.0556667 -0.0785602  0.056561 ]\n",
      "------------------\n",
      "[ 0.0556667 -0.0785602  0.056561 ]\n",
      "[ 0.0298426 -0.112156   0.0088   ]\n",
      "------------------\n",
      "[ 0.0298723  0.0848959 -0.00708  ]\n",
      "[ 0.0730431  0.0444217 -0.012    ]\n",
      "------------------\n",
      "[ 0.0730431  0.0444217 -0.012    ]\n",
      "[ 0.0850799 -0.0150203 -0.00949  ]\n",
      "------------------\n",
      "[ 0.0850799 -0.0150203 -0.00949  ]\n",
      "[ 0.0730557 -0.0730683 -0.00254  ]\n",
      "------------------\n",
      "[ 0.0730557 -0.0730683 -0.00254  ]\n",
      "[ 0.0298426 -0.112156   0.0088   ]\n",
      "------------------\n",
      "[0.0003122 0.058512  0.066462 ]\n",
      "[ 0.0004009 -0.009167   0.100244 ]\n",
      "------------------\n",
      "[ 0.0004009 -0.009167   0.100244 ]\n",
      "[ 0.0003247 -0.081115   0.082615 ]\n",
      "------------------\n",
      "[-0.0724343 -0.0734527 -0.002487 ]\n",
      "[-0.0841611 -0.0160187 -0.009346 ]\n",
      "------------------\n",
      "[-0.0841611 -0.0160187 -0.009346 ]\n",
      "[-0.0840759  0.0145673 -0.050429 ]\n",
      "------------------\n",
      "[-0.0840759  0.0145673 -0.050429 ]\n",
      "[ 0.0841131  0.0143647 -0.050538 ]\n",
      "------------------\n",
      "[ 0.0841131  0.0143647 -0.050538 ]\n",
      "[ 0.0850799 -0.0150203 -0.00949  ]\n",
      "------------------\n",
      "[ 0.0850799 -0.0150203 -0.00949  ]\n",
      "[ 0.0730557 -0.0730683 -0.00254  ]\n",
      "------------------\n"
     ]
    }
   ],
   "source": [
    "for channel in raw.info[\"ch_names\"]:\n",
    "    x = channel.split(\"-\")[0]\n",
    "    y = channel.split(\"-\")[1]\n",
    "    print(ch_pos[x])\n",
    "    print(ch_pos[y])\n",
    "    print(\"------------------\")"
   ]
  },
  {
   "cell_type": "code",
   "execution_count": 69,
   "metadata": {},
   "outputs": [
    {
     "data": {
      "text/plain": [
       "['FP1',\n",
       " 'F7',\n",
       " 'T7',\n",
       " 'P7',\n",
       " 'FP1',\n",
       " 'F3',\n",
       " 'C3',\n",
       " 'P3',\n",
       " 'FP2',\n",
       " 'F4',\n",
       " 'C4',\n",
       " 'P4',\n",
       " 'FP2',\n",
       " 'F8',\n",
       " 'P8',\n",
       " 'FZ',\n",
       " 'CZ',\n",
       " 'P7',\n",
       " 'T7',\n",
       " 'FT9',\n",
       " 'FT10']"
      ]
     },
     "execution_count": 69,
     "metadata": {},
     "output_type": "execute_result"
    }
   ],
   "source": [
    "[channel.split(\"-\")[0] for channel in raw.info[\"ch_names\"]]"
   ]
  },
  {
   "cell_type": "code",
   "execution_count": 67,
   "metadata": {},
   "outputs": [
    {
     "ename": "ValueError",
     "evalue": "There is already a channel named \"FP1-F7\", please specify a different name for the bipolar channel using the ch_name parameter.",
     "output_type": "error",
     "traceback": [
      "\u001b[0;31m---------------------------------------------------------------------------\u001b[0m",
      "\u001b[0;31mValueError\u001b[0m                                Traceback (most recent call last)",
      "Cell \u001b[0;32mIn[67], line 3\u001b[0m\n\u001b[1;32m      1\u001b[0m anodes \u001b[38;5;241m=\u001b[39m [channel\u001b[38;5;241m.\u001b[39msplit(\u001b[38;5;124m\"\u001b[39m\u001b[38;5;124m-\u001b[39m\u001b[38;5;124m\"\u001b[39m)[\u001b[38;5;241m0\u001b[39m] \u001b[38;5;28;01mfor\u001b[39;00m channel \u001b[38;5;129;01min\u001b[39;00m raw\u001b[38;5;241m.\u001b[39minfo[\u001b[38;5;124m\"\u001b[39m\u001b[38;5;124mch_names\u001b[39m\u001b[38;5;124m\"\u001b[39m]]\n\u001b[1;32m      2\u001b[0m cathodes \u001b[38;5;241m=\u001b[39m [channel\u001b[38;5;241m.\u001b[39msplit(\u001b[38;5;124m\"\u001b[39m\u001b[38;5;124m-\u001b[39m\u001b[38;5;124m\"\u001b[39m)[\u001b[38;5;241m1\u001b[39m] \u001b[38;5;28;01mfor\u001b[39;00m channel \u001b[38;5;129;01min\u001b[39;00m raw\u001b[38;5;241m.\u001b[39minfo[\u001b[38;5;124m\"\u001b[39m\u001b[38;5;124mch_names\u001b[39m\u001b[38;5;124m\"\u001b[39m]]\n\u001b[0;32m----> 3\u001b[0m \u001b[43mmne\u001b[49m\u001b[38;5;241;43m.\u001b[39;49m\u001b[43mset_bipolar_reference\u001b[49m\u001b[43m(\u001b[49m\u001b[43mraw\u001b[49m\u001b[43m,\u001b[49m\u001b[43m \u001b[49m\u001b[43manode\u001b[49m\u001b[38;5;241;43m=\u001b[39;49m\u001b[43manodes\u001b[49m\u001b[43m,\u001b[49m\u001b[43m \u001b[49m\u001b[43mcathode\u001b[49m\u001b[38;5;241;43m=\u001b[39;49m\u001b[43mcathodes\u001b[49m\u001b[43m)\u001b[49m\n",
      "File \u001b[0;32m<decorator-gen-58>:12\u001b[0m, in \u001b[0;36mset_bipolar_reference\u001b[0;34m(inst, anode, cathode, ch_name, ch_info, drop_refs, copy, on_bad, verbose)\u001b[0m\n",
      "File \u001b[0;32m~/.local/lib/python3.10/site-packages/mne/_fiff/reference.py:575\u001b[0m, in \u001b[0;36mset_bipolar_reference\u001b[0;34m(inst, anode, cathode, ch_name, ch_info, drop_refs, copy, on_bad, verbose)\u001b[0m\n\u001b[1;32m    573\u001b[0m \u001b[38;5;28;01mfor\u001b[39;00m ch, a, c \u001b[38;5;129;01min\u001b[39;00m \u001b[38;5;28mzip\u001b[39m(ch_name, anode, cathode):\n\u001b[1;32m    574\u001b[0m     \u001b[38;5;28;01mif\u001b[39;00m ch \u001b[38;5;129;01mnot\u001b[39;00m \u001b[38;5;129;01min\u001b[39;00m [a, c] \u001b[38;5;129;01mand\u001b[39;00m ch \u001b[38;5;129;01min\u001b[39;00m inst\u001b[38;5;241m.\u001b[39mch_names:\n\u001b[0;32m--> 575\u001b[0m         \u001b[38;5;28;01mraise\u001b[39;00m \u001b[38;5;167;01mValueError\u001b[39;00m(\n\u001b[1;32m    576\u001b[0m             \u001b[38;5;124m'\u001b[39m\u001b[38;5;124mThere is already a channel named \u001b[39m\u001b[38;5;124m\"\u001b[39m\u001b[38;5;132;01m%s\u001b[39;00m\u001b[38;5;124m\"\u001b[39m\u001b[38;5;124m, please \u001b[39m\u001b[38;5;124m'\u001b[39m\n\u001b[1;32m    577\u001b[0m             \u001b[38;5;124m\"\u001b[39m\u001b[38;5;124mspecify a different name for the bipolar \u001b[39m\u001b[38;5;124m\"\u001b[39m\n\u001b[1;32m    578\u001b[0m             \u001b[38;5;124m\"\u001b[39m\u001b[38;5;124mchannel using the ch_name parameter.\u001b[39m\u001b[38;5;124m\"\u001b[39m \u001b[38;5;241m%\u001b[39m ch\n\u001b[1;32m    579\u001b[0m         )\n\u001b[1;32m    581\u001b[0m \u001b[38;5;28;01mif\u001b[39;00m ch_info \u001b[38;5;129;01mis\u001b[39;00m \u001b[38;5;28;01mNone\u001b[39;00m:\n\u001b[1;32m    582\u001b[0m     ch_info \u001b[38;5;241m=\u001b[39m [{} \u001b[38;5;28;01mfor\u001b[39;00m _ \u001b[38;5;129;01min\u001b[39;00m anode]\n",
      "\u001b[0;31mValueError\u001b[0m: There is already a channel named \"FP1-F7\", please specify a different name for the bipolar channel using the ch_name parameter."
     ]
    }
   ],
   "source": [
    "anodes = [channel.split(\"-\")[0] for channel in raw.info[\"ch_names\"]]\n",
    "cathodes = [channel.split(\"-\")[1] for channel in raw.info[\"ch_names\"]]\n",
    "mne.set_bipolar_reference(raw, anode=anodes, cathode=cathodes)"
   ]
  },
  {
   "cell_type": "code",
   "execution_count": 68,
   "metadata": {},
   "outputs": [
    {
     "ename": "ValueError",
     "evalue": "New channel names are not unique, renaming failed",
     "output_type": "error",
     "traceback": [
      "\u001b[0;31m---------------------------------------------------------------------------\u001b[0m",
      "\u001b[0;31mValueError\u001b[0m                                Traceback (most recent call last)",
      "Cell \u001b[0;32mIn[68], line 1\u001b[0m\n\u001b[0;32m----> 1\u001b[0m \u001b[43mraw\u001b[49m\u001b[38;5;241;43m.\u001b[39;49m\u001b[43mrename_channels\u001b[49m\u001b[43m(\u001b[49m\u001b[38;5;28;43;01mlambda\u001b[39;49;00m\u001b[43m \u001b[49m\u001b[43mch_name\u001b[49m\u001b[43m:\u001b[49m\u001b[43m \u001b[49m\u001b[43mch_name\u001b[49m\u001b[38;5;241;43m.\u001b[39;49m\u001b[43msplit\u001b[49m\u001b[43m(\u001b[49m\u001b[38;5;124;43m\"\u001b[39;49m\u001b[38;5;124;43m-\u001b[39;49m\u001b[38;5;124;43m\"\u001b[39;49m\u001b[43m)\u001b[49m\u001b[43m[\u001b[49m\u001b[38;5;241;43m0\u001b[39;49m\u001b[43m]\u001b[49m\u001b[43m)\u001b[49m\n",
      "File \u001b[0;32m<decorator-gen-23>:12\u001b[0m, in \u001b[0;36mrename_channels\u001b[0;34m(self, mapping, allow_duplicates, verbose)\u001b[0m\n",
      "File \u001b[0;32m~/.local/lib/python3.10/site-packages/mne/_fiff/meas_info.py:651\u001b[0m, in \u001b[0;36mSetChannelsMixin.rename_channels\u001b[0;34m(self, mapping, allow_duplicates, verbose)\u001b[0m\n\u001b[1;32m    648\u001b[0m info \u001b[38;5;241m=\u001b[39m \u001b[38;5;28mself\u001b[39m \u001b[38;5;28;01mif\u001b[39;00m \u001b[38;5;28misinstance\u001b[39m(\u001b[38;5;28mself\u001b[39m, Info) \u001b[38;5;28;01melse\u001b[39;00m \u001b[38;5;28mself\u001b[39m\u001b[38;5;241m.\u001b[39minfo\n\u001b[1;32m    650\u001b[0m ch_names_orig \u001b[38;5;241m=\u001b[39m \u001b[38;5;28mlist\u001b[39m(info[\u001b[38;5;124m\"\u001b[39m\u001b[38;5;124mch_names\u001b[39m\u001b[38;5;124m\"\u001b[39m])\n\u001b[0;32m--> 651\u001b[0m \u001b[43mrename_channels\u001b[49m\u001b[43m(\u001b[49m\u001b[43minfo\u001b[49m\u001b[43m,\u001b[49m\u001b[43m \u001b[49m\u001b[43mmapping\u001b[49m\u001b[43m,\u001b[49m\u001b[43m \u001b[49m\u001b[43mallow_duplicates\u001b[49m\u001b[43m)\u001b[49m\n\u001b[1;32m    653\u001b[0m \u001b[38;5;66;03m# Update self._orig_units for Raw\u001b[39;00m\n\u001b[1;32m    654\u001b[0m \u001b[38;5;28;01mif\u001b[39;00m \u001b[38;5;28misinstance\u001b[39m(\u001b[38;5;28mself\u001b[39m, BaseRaw):\n\u001b[1;32m    655\u001b[0m     \u001b[38;5;66;03m# whatever mapping was provided, now we can just use a dict\u001b[39;00m\n",
      "File \u001b[0;32m<decorator-gen-129>:12\u001b[0m, in \u001b[0;36mrename_channels\u001b[0;34m(info, mapping, allow_duplicates, verbose)\u001b[0m\n",
      "File \u001b[0;32m~/.local/lib/python3.10/site-packages/mne/channels/channels.py:985\u001b[0m, in \u001b[0;36mrename_channels\u001b[0;34m(info, mapping, allow_duplicates, verbose)\u001b[0m\n\u001b[1;32m    983\u001b[0m \u001b[38;5;66;03m# check that all the channel names are unique\u001b[39;00m\n\u001b[1;32m    984\u001b[0m \u001b[38;5;28;01mif\u001b[39;00m \u001b[38;5;28mlen\u001b[39m(ch_names) \u001b[38;5;241m!=\u001b[39m \u001b[38;5;28mlen\u001b[39m(np\u001b[38;5;241m.\u001b[39munique(ch_names)) \u001b[38;5;129;01mand\u001b[39;00m \u001b[38;5;129;01mnot\u001b[39;00m allow_duplicates:\n\u001b[0;32m--> 985\u001b[0m     \u001b[38;5;28;01mraise\u001b[39;00m \u001b[38;5;167;01mValueError\u001b[39;00m(\u001b[38;5;124m\"\u001b[39m\u001b[38;5;124mNew channel names are not unique, renaming failed\u001b[39m\u001b[38;5;124m\"\u001b[39m)\n\u001b[1;32m    987\u001b[0m \u001b[38;5;66;03m# do the remapping in info\u001b[39;00m\n\u001b[1;32m    988\u001b[0m info[\u001b[38;5;124m\"\u001b[39m\u001b[38;5;124mbads\u001b[39m\u001b[38;5;124m\"\u001b[39m] \u001b[38;5;241m=\u001b[39m []\n",
      "\u001b[0;31mValueError\u001b[0m: New channel names are not unique, renaming failed"
     ]
    }
   ],
   "source": [
    "raw.rename_channels(lambda ch_name: ch_name.split(\"-\")[0])"
   ]
  },
  {
   "cell_type": "code",
   "execution_count": 35,
   "metadata": {},
   "outputs": [
    {
     "name": "stdout",
     "output_type": "stream",
     "text": [
      "('FP', '1', 'F', '7')\n",
      "('F', '7', 'T', '7')\n",
      "('T', '7', 'P', '7')\n",
      "('P', '7', 'O', '1')\n",
      "('FP', '1', 'F', '3')\n",
      "('F', '3', 'C', '3')\n",
      "('C', '3', 'P', '3')\n",
      "('P', '3', 'O', '1')\n",
      "('FP', '2', 'F', '4')\n",
      "('F', '4', 'C', '4')\n",
      "('C', '4', 'P', '4')\n",
      "('P', '4', 'O', '2')\n",
      "('FP', '2', 'F', '8')\n",
      "('F', '8', 'T', '8')\n",
      "('T', '8', 'P', '8')\n",
      "('P', '8', 'O', '2')\n",
      "('FZ', '', 'CZ', '')\n",
      "('CZ', '', 'PZ', '')\n",
      "('P', '7', 'T', '7')\n",
      "('T', '7', 'FT', '9')\n",
      "('FT', '9', 'FT', '10')\n",
      "('FT', '10', 'T', '8')\n",
      "('T', '8', 'P', '8')\n"
     ]
    },
    {
     "data": {
      "text/plain": [
       "{'FP1-F7': 'FP1',\n",
       " 'F7-T7': 'F7',\n",
       " 'T7-P7': 'T7',\n",
       " 'P7-O1': 'P7',\n",
       " 'FP1-F3': 'FP1',\n",
       " 'F3-C3': 'F3',\n",
       " 'C3-P3': 'C3',\n",
       " 'P3-O1': 'P3',\n",
       " 'FP2-F4': 'FP2',\n",
       " 'F4-C4': 'F4',\n",
       " 'C4-P4': 'C4',\n",
       " 'P4-O2': 'P4',\n",
       " 'FP2-F8': 'FP2',\n",
       " 'F8-T8': 'F8',\n",
       " 'T8-P8-0': 'T8',\n",
       " 'P8-O2': 'P8',\n",
       " 'FZ-CZ': 'FZ',\n",
       " 'CZ-PZ': 'CZ',\n",
       " 'P7-T7': 'P7',\n",
       " 'T7-FT9': 'T7',\n",
       " 'FT9-FT10': 'FT9',\n",
       " 'FT10-T8': 'FT10',\n",
       " 'T8-P8-1': 'T8'}"
      ]
     },
     "execution_count": 35,
     "metadata": {},
     "output_type": "execute_result"
    }
   ],
   "source": [
    "mapping = {\n",
    "    'FP1-F7': 'AF7',\n",
    "    'F7-T7': 'FT7',\n",
    "    'T7-P7': 'TP7',\n",
    "    'P7-O1': 'PO7',\n",
    "    'FP1-F3': 'AF3',\n",
    "    'F3-C3': 'FC3',\n",
    "    'C3-P3': 'CP3',\n",
    "    'P3-O1': 'PO3',\n",
    "    'FP2-F4': 'AF4',\n",
    "    'F4-C4': 'FC4',\n",
    "    'C4-P4': 'CP4',\n",
    "    'P4-O2': 'PO4',\n",
    "    'FP2-F8': 'AF8',\n",
    "    'F8-T8': 'FT8',\n",
    "    'T8-P8-0': 'TP8',\n",
    "    'P8-O2': 'PO8',\n",
    "    'FZ-CZ': 'FCz',\n",
    "    'CZ-PZ': 'CPz',\n",
    "    'P7-T7': 'TP7',\n",
    "    'T7-FT9': '???',\n",
    "    'FT9-FT10': '???',\n",
    "    'FT10-T8': '???',\n",
    "    'T8-P8-1': 'TP8'\n",
    "}"
   ]
  },
  {
   "cell_type": "code",
   "execution_count": 73,
   "metadata": {},
   "outputs": [
    {
     "name": "stderr",
     "output_type": "stream",
     "text": [
      "/tmp/ipykernel_4364/2381065304.py:1: RuntimeWarning: DigMontage is only a subset of info. There are 21 channel positions not present in the DigMontage. The channels missing from the montage are:\n",
      "\n",
      "['FP1-F7', 'F7-T7', 'T7-P7', 'P7-O1', 'FP1-F3', 'F3-C3', 'C3-P3', 'P3-O1', 'FP2-F4', 'F4-C4', 'C4-P4', 'P4-O2', 'FP2-F8', 'F8-T8', 'P8-O2', 'FZ-CZ', 'CZ-PZ', 'P7-T7', 'T7-FT9', 'FT9-FT10', 'FT10-T8'].\n",
      "\n",
      "Consider using inst.rename_channels to match the montage nomenclature, or inst.set_channel_types if these are not EEG channels, or use the on_missing parameter if the channel positions are allowed to be unknown in your analyses.\n",
      "  raw.set_montage(\"standard_1020\", match_case=False, on_missing=\"warn\")\n"
     ]
    },
    {
     "data": {
      "text/html": [
       "<details open>\n",
       "    <summary><strong>General</strong></summary>\n",
       "    <table class=\"table table-hover table-striped table-sm table-responsive small\">\n",
       "        <tr>\n",
       "            <th>Measurement date</th>\n",
       "            \n",
       "            <td>November 06, 2076  14:43:12 GMT</td>\n",
       "            \n",
       "        </tr>\n",
       "        <tr>\n",
       "            <th>Experimenter</th>\n",
       "            \n",
       "            <td>Unknown</td>\n",
       "            \n",
       "        </tr>\n",
       "        <tr>\n",
       "            <th>Participant</th>\n",
       "            \n",
       "            \n",
       "            <td>Surrogate</td>\n",
       "            \n",
       "            \n",
       "        </tr>\n",
       "    </table>\n",
       "    </details>\n",
       "    <details open>\n",
       "        <summary><strong>Channels</strong></summary>\n",
       "        <table class=\"table table-hover table-striped table-sm table-responsive small\">\n",
       "            <tr>\n",
       "                <th>Digitized points</th>\n",
       "                \n",
       "                <td>3 points</td>\n",
       "                \n",
       "            </tr>\n",
       "            <tr>\n",
       "                <th>Good channels</th>\n",
       "                <td>21 EEG</td>\n",
       "            </tr>\n",
       "            <tr>\n",
       "                <th>Bad channels</th>\n",
       "                <td>None</td>\n",
       "            </tr>\n",
       "            <tr>\n",
       "                <th>EOG channels</th>\n",
       "                <td>Not available</td>\n",
       "            </tr>\n",
       "            <tr>\n",
       "                <th>ECG channels</th>\n",
       "                <td>Not available</td>\n",
       "            </tr>\n",
       "        </table>\n",
       "        </details>\n",
       "        <details open>\n",
       "            <summary><strong>Data</strong></summary>\n",
       "            <table class=\"table table-hover table-striped table-sm table-responsive small\">\n",
       "                \n",
       "                <tr>\n",
       "                    <th>Sampling frequency</th>\n",
       "                    <td>256.00 Hz</td>\n",
       "                </tr>\n",
       "                \n",
       "                \n",
       "                <tr>\n",
       "                    <th>Highpass</th>\n",
       "                    <td>0.00 Hz</td>\n",
       "                </tr>\n",
       "                \n",
       "                \n",
       "                <tr>\n",
       "                    <th>Lowpass</th>\n",
       "                    <td>128.00 Hz</td>\n",
       "                </tr>\n",
       "                \n",
       "                \n",
       "                \n",
       "                <tr>\n",
       "                    <th>Filenames</th>\n",
       "                    <td>chb01_04.edf</td>\n",
       "                </tr>\n",
       "                \n",
       "                \n",
       "                <tr>\n",
       "                    <th>Duration</th>\n",
       "                    <td>00:59:60 (HH:MM:SS)</td>\n",
       "                </tr>\n",
       "                \n",
       "            </table>\n",
       "            </details>"
      ],
      "text/plain": [
       "<RawEDF | chb01_04.edf, 21 x 921600 (3600.0 s), ~27 kB, data not loaded>"
      ]
     },
     "execution_count": 73,
     "metadata": {},
     "output_type": "execute_result"
    }
   ],
   "source": [
    "raw.set_montage(\"standard_1020\", match_case=False, on_missing=\"warn\")"
   ]
  },
  {
   "cell_type": "code",
   "execution_count": 84,
   "metadata": {},
   "outputs": [
    {
     "name": "stdout",
     "output_type": "stream",
     "text": [
      "Creating RawArray with float64 data, n_channels=2, n_times=100\n",
      "    Range : 0 ... 99 =      0.000 ...     0.990 secs\n",
      "Ready.\n"
     ]
    }
   ],
   "source": [
    "sampling_freq = 100\n",
    "\n",
    "times = np.linspace(0, 1, sampling_freq, endpoint=False)\n",
    "sine = np.sin(20 * np.pi * times)\n",
    "cosine = np.cos(10 * np.pi * times)\n",
    "data = np.array([sine, cosine])\n",
    "\n",
    "info = mne.create_info(\n",
    "    ch_names=[\"10 Hz sine\", \"5 Hz cosine\"], ch_types=[\"misc\"] * 2, sfreq=sampling_freq\n",
    ")\n",
    "\n",
    "test_raw = mne.io.RawArray(data, info)"
   ]
  },
  {
   "cell_type": "code",
   "execution_count": 100,
   "metadata": {},
   "outputs": [
    {
     "name": "stdout",
     "output_type": "stream",
     "text": [
      "[-1.54334554e-05  1.95360195e-07  1.95360195e-07 ...  5.86080586e-07\n",
      " -1.75824176e-06  3.32112332e-06]\n",
      "[0.00000000e+00 3.90625000e-03 7.81250000e-03 ... 3.59998828e+03\n",
      " 3.59999219e+03 3.59999609e+03]\n"
     ]
    }
   ],
   "source": [
    "x, y = raw[\"C3-P3\"]\n",
    "print(x[0])\n",
    "print(y)"
   ]
  },
  {
   "cell_type": "code",
   "execution_count": 96,
   "metadata": {},
   "outputs": [],
   "source": [
    "x = 3.59999609e+03"
   ]
  },
  {
   "cell_type": "code",
   "execution_count": 95,
   "metadata": {},
   "outputs": [
    {
     "name": "stdout",
     "output_type": "stream",
     "text": [
      "[[ 0.00000000e+00  5.87785252e-01  9.51056516e-01  9.51056516e-01\n",
      "   5.87785252e-01  1.22464680e-16 -5.87785252e-01 -9.51056516e-01\n",
      "  -9.51056516e-01 -5.87785252e-01 -2.44929360e-16  5.87785252e-01\n",
      "   9.51056516e-01  9.51056516e-01  5.87785252e-01  3.67394040e-16\n",
      "  -5.87785252e-01 -9.51056516e-01 -9.51056516e-01 -5.87785252e-01\n",
      "  -4.89858720e-16  5.87785252e-01  9.51056516e-01  9.51056516e-01\n",
      "   5.87785252e-01  6.12323400e-16 -5.87785252e-01 -9.51056516e-01\n",
      "  -9.51056516e-01 -5.87785252e-01 -7.34788079e-16  5.87785252e-01\n",
      "   9.51056516e-01  9.51056516e-01  5.87785252e-01 -2.69546092e-15\n",
      "  -5.87785252e-01 -9.51056516e-01 -9.51056516e-01 -5.87785252e-01\n",
      "  -9.79717439e-16  5.87785252e-01  9.51056516e-01  9.51056516e-01\n",
      "   5.87785252e-01  1.10218212e-15 -5.87785252e-01 -9.51056516e-01\n",
      "  -9.51056516e-01 -5.87785252e-01 -1.22464680e-15  5.87785252e-01\n",
      "   9.51056516e-01  9.51056516e-01  5.87785252e-01 -2.20560220e-15\n",
      "  -5.87785252e-01 -9.51056516e-01 -9.51056516e-01 -5.87785252e-01\n",
      "  -1.46957616e-15  5.87785252e-01  9.51056516e-01  9.51056516e-01\n",
      "   5.87785252e-01 -1.96067284e-15 -5.87785252e-01 -9.51056516e-01\n",
      "  -9.51056516e-01 -5.87785252e-01  5.39092184e-15  5.87785252e-01\n",
      "   9.51056516e-01  9.51056516e-01  5.87785252e-01  5.38968388e-15\n",
      "  -5.87785252e-01 -9.51056516e-01 -9.51056516e-01 -5.87785252e-01\n",
      "  -1.95943488e-15  5.87785252e-01  9.51056516e-01  9.51056516e-01\n",
      "   5.87785252e-01  5.63461324e-15 -5.87785252e-01 -9.51056516e-01\n",
      "  -9.51056516e-01 -5.87785252e-01 -2.20436424e-15  5.87785252e-01\n",
      "   9.51056516e-01  9.51056516e-01  5.87785252e-01 -1.22588476e-15\n",
      "  -5.87785252e-01 -9.51056516e-01 -9.51056516e-01 -5.87785252e-01]]\n",
      "[0.   0.01 0.02 0.03 0.04 0.05 0.06 0.07 0.08 0.09 0.1  0.11 0.12 0.13\n",
      " 0.14 0.15 0.16 0.17 0.18 0.19 0.2  0.21 0.22 0.23 0.24 0.25 0.26 0.27\n",
      " 0.28 0.29 0.3  0.31 0.32 0.33 0.34 0.35 0.36 0.37 0.38 0.39 0.4  0.41\n",
      " 0.42 0.43 0.44 0.45 0.46 0.47 0.48 0.49 0.5  0.51 0.52 0.53 0.54 0.55\n",
      " 0.56 0.57 0.58 0.59 0.6  0.61 0.62 0.63 0.64 0.65 0.66 0.67 0.68 0.69\n",
      " 0.7  0.71 0.72 0.73 0.74 0.75 0.76 0.77 0.78 0.79 0.8  0.81 0.82 0.83\n",
      " 0.84 0.85 0.86 0.87 0.88 0.89 0.9  0.91 0.92 0.93 0.94 0.95 0.96 0.97\n",
      " 0.98 0.99]\n"
     ]
    }
   ],
   "source": [
    "x, y = test_raw[\"10 Hz sine\"]\n",
    "print(x)\n",
    "print(y)"
   ]
  },
  {
   "cell_type": "code",
   "execution_count": 75,
   "metadata": {},
   "outputs": [
    {
     "ename": "RuntimeError",
     "evalue": "No valid channel positions found",
     "output_type": "error",
     "traceback": [
      "\u001b[0;31m---------------------------------------------------------------------------\u001b[0m",
      "\u001b[0;31mRuntimeError\u001b[0m                              Traceback (most recent call last)",
      "Cell \u001b[0;32mIn[75], line 1\u001b[0m\n\u001b[0;32m----> 1\u001b[0m \u001b[43mraw\u001b[49m\u001b[38;5;241;43m.\u001b[39;49m\u001b[43mplot_sensors\u001b[49m\u001b[43m(\u001b[49m\u001b[43m)\u001b[49m\n",
      "File \u001b[0;32m<decorator-gen-24>:12\u001b[0m, in \u001b[0;36mplot_sensors\u001b[0;34m(self, kind, ch_type, title, show_names, ch_groups, to_sphere, axes, block, show, sphere, verbose)\u001b[0m\n",
      "File \u001b[0;32m~/.local/lib/python3.10/site-packages/mne/_fiff/meas_info.py:753\u001b[0m, in \u001b[0;36mSetChannelsMixin.plot_sensors\u001b[0;34m(self, kind, ch_type, title, show_names, ch_groups, to_sphere, axes, block, show, sphere, verbose)\u001b[0m\n\u001b[1;32m    682\u001b[0m \u001b[38;5;250m\u001b[39m\u001b[38;5;124;03m\"\"\"Plot sensor positions.\u001b[39;00m\n\u001b[1;32m    683\u001b[0m \n\u001b[1;32m    684\u001b[0m \u001b[38;5;124;03mParameters\u001b[39;00m\n\u001b[0;32m   (...)\u001b[0m\n\u001b[1;32m    749\u001b[0m \u001b[38;5;124;03m.. versionadded:: 0.12.0\u001b[39;00m\n\u001b[1;32m    750\u001b[0m \u001b[38;5;124;03m\"\"\"\u001b[39;00m\n\u001b[1;32m    751\u001b[0m \u001b[38;5;28;01mfrom\u001b[39;00m \u001b[38;5;21;01m.\u001b[39;00m\u001b[38;5;21;01m.\u001b[39;00m\u001b[38;5;21;01mviz\u001b[39;00m\u001b[38;5;21;01m.\u001b[39;00m\u001b[38;5;21;01mutils\u001b[39;00m \u001b[38;5;28;01mimport\u001b[39;00m plot_sensors\n\u001b[0;32m--> 753\u001b[0m \u001b[38;5;28;01mreturn\u001b[39;00m \u001b[43mplot_sensors\u001b[49m\u001b[43m(\u001b[49m\n\u001b[1;32m    754\u001b[0m \u001b[43m    \u001b[49m\u001b[38;5;28;43mself\u001b[39;49m\u001b[43m \u001b[49m\u001b[38;5;28;43;01mif\u001b[39;49;00m\u001b[43m \u001b[49m\u001b[38;5;28;43misinstance\u001b[39;49m\u001b[43m(\u001b[49m\u001b[38;5;28;43mself\u001b[39;49m\u001b[43m,\u001b[49m\u001b[43m \u001b[49m\u001b[43mInfo\u001b[49m\u001b[43m)\u001b[49m\u001b[43m \u001b[49m\u001b[38;5;28;43;01melse\u001b[39;49;00m\u001b[43m \u001b[49m\u001b[38;5;28;43mself\u001b[39;49m\u001b[38;5;241;43m.\u001b[39;49m\u001b[43minfo\u001b[49m\u001b[43m,\u001b[49m\n\u001b[1;32m    755\u001b[0m \u001b[43m    \u001b[49m\u001b[43mkind\u001b[49m\u001b[38;5;241;43m=\u001b[39;49m\u001b[43mkind\u001b[49m\u001b[43m,\u001b[49m\n\u001b[1;32m    756\u001b[0m \u001b[43m    \u001b[49m\u001b[43mch_type\u001b[49m\u001b[38;5;241;43m=\u001b[39;49m\u001b[43mch_type\u001b[49m\u001b[43m,\u001b[49m\n\u001b[1;32m    757\u001b[0m \u001b[43m    \u001b[49m\u001b[43mtitle\u001b[49m\u001b[38;5;241;43m=\u001b[39;49m\u001b[43mtitle\u001b[49m\u001b[43m,\u001b[49m\n\u001b[1;32m    758\u001b[0m \u001b[43m    \u001b[49m\u001b[43mshow_names\u001b[49m\u001b[38;5;241;43m=\u001b[39;49m\u001b[43mshow_names\u001b[49m\u001b[43m,\u001b[49m\n\u001b[1;32m    759\u001b[0m \u001b[43m    \u001b[49m\u001b[43mch_groups\u001b[49m\u001b[38;5;241;43m=\u001b[39;49m\u001b[43mch_groups\u001b[49m\u001b[43m,\u001b[49m\n\u001b[1;32m    760\u001b[0m \u001b[43m    \u001b[49m\u001b[43mto_sphere\u001b[49m\u001b[38;5;241;43m=\u001b[39;49m\u001b[43mto_sphere\u001b[49m\u001b[43m,\u001b[49m\n\u001b[1;32m    761\u001b[0m \u001b[43m    \u001b[49m\u001b[43maxes\u001b[49m\u001b[38;5;241;43m=\u001b[39;49m\u001b[43maxes\u001b[49m\u001b[43m,\u001b[49m\n\u001b[1;32m    762\u001b[0m \u001b[43m    \u001b[49m\u001b[43mblock\u001b[49m\u001b[38;5;241;43m=\u001b[39;49m\u001b[43mblock\u001b[49m\u001b[43m,\u001b[49m\n\u001b[1;32m    763\u001b[0m \u001b[43m    \u001b[49m\u001b[43mshow\u001b[49m\u001b[38;5;241;43m=\u001b[39;49m\u001b[43mshow\u001b[49m\u001b[43m,\u001b[49m\n\u001b[1;32m    764\u001b[0m \u001b[43m    \u001b[49m\u001b[43msphere\u001b[49m\u001b[38;5;241;43m=\u001b[39;49m\u001b[43msphere\u001b[49m\u001b[43m,\u001b[49m\n\u001b[1;32m    765\u001b[0m \u001b[43m    \u001b[49m\u001b[43mverbose\u001b[49m\u001b[38;5;241;43m=\u001b[39;49m\u001b[43mverbose\u001b[49m\u001b[43m,\u001b[49m\n\u001b[1;32m    766\u001b[0m \u001b[43m\u001b[49m\u001b[43m)\u001b[49m\n",
      "File \u001b[0;32m<decorator-gen-101>:12\u001b[0m, in \u001b[0;36mplot_sensors\u001b[0;34m(info, kind, ch_type, title, show_names, ch_groups, to_sphere, axes, block, show, sphere, pointsize, linewidth, cmap, verbose)\u001b[0m\n",
      "File \u001b[0;32m~/.local/lib/python3.10/site-packages/mne/viz/utils.py:1098\u001b[0m, in \u001b[0;36mplot_sensors\u001b[0;34m(info, kind, ch_type, title, show_names, ch_groups, to_sphere, axes, block, show, sphere, pointsize, linewidth, cmap, verbose)\u001b[0m\n\u001b[1;32m   1095\u001b[0m     \u001b[38;5;28;01mraise\u001b[39;00m \u001b[38;5;167;01mValueError\u001b[39;00m(\u001b[38;5;124mf\u001b[39m\u001b[38;5;124m\"\u001b[39m\u001b[38;5;124mCould not find any channels of type \u001b[39m\u001b[38;5;132;01m{\u001b[39;00mch_type\u001b[38;5;132;01m}\u001b[39;00m\u001b[38;5;124m.\u001b[39m\u001b[38;5;124m\"\u001b[39m)\n\u001b[1;32m   1097\u001b[0m \u001b[38;5;28;01mif\u001b[39;00m \u001b[38;5;129;01mnot\u001b[39;00m _check_ch_locs(info\u001b[38;5;241m=\u001b[39minfo, picks\u001b[38;5;241m=\u001b[39mpicks):\n\u001b[0;32m-> 1098\u001b[0m     \u001b[38;5;28;01mraise\u001b[39;00m \u001b[38;5;167;01mRuntimeError\u001b[39;00m(\u001b[38;5;124m\"\u001b[39m\u001b[38;5;124mNo valid channel positions found\u001b[39m\u001b[38;5;124m\"\u001b[39m)\n\u001b[1;32m   1100\u001b[0m dev_head_t \u001b[38;5;241m=\u001b[39m info[\u001b[38;5;124m\"\u001b[39m\u001b[38;5;124mdev_head_t\u001b[39m\u001b[38;5;124m\"\u001b[39m]\n\u001b[1;32m   1101\u001b[0m chs \u001b[38;5;241m=\u001b[39m [info[\u001b[38;5;124m\"\u001b[39m\u001b[38;5;124mchs\u001b[39m\u001b[38;5;124m\"\u001b[39m][pick] \u001b[38;5;28;01mfor\u001b[39;00m pick \u001b[38;5;129;01min\u001b[39;00m picks]\n",
      "\u001b[0;31mRuntimeError\u001b[0m: No valid channel positions found"
     ]
    }
   ],
   "source": [
    "raw.plot_sensors()"
   ]
  },
  {
   "cell_type": "code",
   "execution_count": 12,
   "metadata": {},
   "outputs": [
    {
     "name": "stdout",
     "output_type": "stream",
     "text": [
      "Not setting metadata\n",
      "514 matching events found\n",
      "No baseline correction applied\n",
      "0 projection items activated\n"
     ]
    }
   ],
   "source": [
    "x = mne.make_fixed_length_epochs(raw, 7)"
   ]
  },
  {
   "cell_type": "code",
   "execution_count": 13,
   "metadata": {},
   "outputs": [
    {
     "name": "stdout",
     "output_type": "stream",
     "text": [
      "(23, 921600)\n"
     ]
    }
   ],
   "source": [
    "print(raw.get_data().shape)"
   ]
  },
  {
   "cell_type": "code",
   "execution_count": 15,
   "metadata": {},
   "outputs": [
    {
     "ename": "RuntimeError",
     "evalue": "No valid channel positions found",
     "output_type": "error",
     "traceback": [
      "\u001b[0;31m---------------------------------------------------------------------------\u001b[0m",
      "\u001b[0;31mRuntimeError\u001b[0m                              Traceback (most recent call last)",
      "Cell \u001b[0;32mIn[15], line 1\u001b[0m\n\u001b[0;32m----> 1\u001b[0m \u001b[43mraw\u001b[49m\u001b[38;5;241;43m.\u001b[39;49m\u001b[43mplot_sensors\u001b[49m\u001b[43m(\u001b[49m\u001b[43m)\u001b[49m\n",
      "File \u001b[0;32m<decorator-gen-24>:12\u001b[0m, in \u001b[0;36mplot_sensors\u001b[0;34m(self, kind, ch_type, title, show_names, ch_groups, to_sphere, axes, block, show, sphere, verbose)\u001b[0m\n",
      "File \u001b[0;32m~/.local/lib/python3.10/site-packages/mne/_fiff/meas_info.py:753\u001b[0m, in \u001b[0;36mSetChannelsMixin.plot_sensors\u001b[0;34m(self, kind, ch_type, title, show_names, ch_groups, to_sphere, axes, block, show, sphere, verbose)\u001b[0m\n\u001b[1;32m    682\u001b[0m \u001b[38;5;250m\u001b[39m\u001b[38;5;124;03m\"\"\"Plot sensor positions.\u001b[39;00m\n\u001b[1;32m    683\u001b[0m \n\u001b[1;32m    684\u001b[0m \u001b[38;5;124;03mParameters\u001b[39;00m\n\u001b[0;32m   (...)\u001b[0m\n\u001b[1;32m    749\u001b[0m \u001b[38;5;124;03m.. versionadded:: 0.12.0\u001b[39;00m\n\u001b[1;32m    750\u001b[0m \u001b[38;5;124;03m\"\"\"\u001b[39;00m\n\u001b[1;32m    751\u001b[0m \u001b[38;5;28;01mfrom\u001b[39;00m \u001b[38;5;21;01m.\u001b[39;00m\u001b[38;5;21;01m.\u001b[39;00m\u001b[38;5;21;01mviz\u001b[39;00m\u001b[38;5;21;01m.\u001b[39;00m\u001b[38;5;21;01mutils\u001b[39;00m \u001b[38;5;28;01mimport\u001b[39;00m plot_sensors\n\u001b[0;32m--> 753\u001b[0m \u001b[38;5;28;01mreturn\u001b[39;00m \u001b[43mplot_sensors\u001b[49m\u001b[43m(\u001b[49m\n\u001b[1;32m    754\u001b[0m \u001b[43m    \u001b[49m\u001b[38;5;28;43mself\u001b[39;49m\u001b[43m \u001b[49m\u001b[38;5;28;43;01mif\u001b[39;49;00m\u001b[43m \u001b[49m\u001b[38;5;28;43misinstance\u001b[39;49m\u001b[43m(\u001b[49m\u001b[38;5;28;43mself\u001b[39;49m\u001b[43m,\u001b[49m\u001b[43m \u001b[49m\u001b[43mInfo\u001b[49m\u001b[43m)\u001b[49m\u001b[43m \u001b[49m\u001b[38;5;28;43;01melse\u001b[39;49;00m\u001b[43m \u001b[49m\u001b[38;5;28;43mself\u001b[39;49m\u001b[38;5;241;43m.\u001b[39;49m\u001b[43minfo\u001b[49m\u001b[43m,\u001b[49m\n\u001b[1;32m    755\u001b[0m \u001b[43m    \u001b[49m\u001b[43mkind\u001b[49m\u001b[38;5;241;43m=\u001b[39;49m\u001b[43mkind\u001b[49m\u001b[43m,\u001b[49m\n\u001b[1;32m    756\u001b[0m \u001b[43m    \u001b[49m\u001b[43mch_type\u001b[49m\u001b[38;5;241;43m=\u001b[39;49m\u001b[43mch_type\u001b[49m\u001b[43m,\u001b[49m\n\u001b[1;32m    757\u001b[0m \u001b[43m    \u001b[49m\u001b[43mtitle\u001b[49m\u001b[38;5;241;43m=\u001b[39;49m\u001b[43mtitle\u001b[49m\u001b[43m,\u001b[49m\n\u001b[1;32m    758\u001b[0m \u001b[43m    \u001b[49m\u001b[43mshow_names\u001b[49m\u001b[38;5;241;43m=\u001b[39;49m\u001b[43mshow_names\u001b[49m\u001b[43m,\u001b[49m\n\u001b[1;32m    759\u001b[0m \u001b[43m    \u001b[49m\u001b[43mch_groups\u001b[49m\u001b[38;5;241;43m=\u001b[39;49m\u001b[43mch_groups\u001b[49m\u001b[43m,\u001b[49m\n\u001b[1;32m    760\u001b[0m \u001b[43m    \u001b[49m\u001b[43mto_sphere\u001b[49m\u001b[38;5;241;43m=\u001b[39;49m\u001b[43mto_sphere\u001b[49m\u001b[43m,\u001b[49m\n\u001b[1;32m    761\u001b[0m \u001b[43m    \u001b[49m\u001b[43maxes\u001b[49m\u001b[38;5;241;43m=\u001b[39;49m\u001b[43maxes\u001b[49m\u001b[43m,\u001b[49m\n\u001b[1;32m    762\u001b[0m \u001b[43m    \u001b[49m\u001b[43mblock\u001b[49m\u001b[38;5;241;43m=\u001b[39;49m\u001b[43mblock\u001b[49m\u001b[43m,\u001b[49m\n\u001b[1;32m    763\u001b[0m \u001b[43m    \u001b[49m\u001b[43mshow\u001b[49m\u001b[38;5;241;43m=\u001b[39;49m\u001b[43mshow\u001b[49m\u001b[43m,\u001b[49m\n\u001b[1;32m    764\u001b[0m \u001b[43m    \u001b[49m\u001b[43msphere\u001b[49m\u001b[38;5;241;43m=\u001b[39;49m\u001b[43msphere\u001b[49m\u001b[43m,\u001b[49m\n\u001b[1;32m    765\u001b[0m \u001b[43m    \u001b[49m\u001b[43mverbose\u001b[49m\u001b[38;5;241;43m=\u001b[39;49m\u001b[43mverbose\u001b[49m\u001b[43m,\u001b[49m\n\u001b[1;32m    766\u001b[0m \u001b[43m\u001b[49m\u001b[43m)\u001b[49m\n",
      "File \u001b[0;32m<decorator-gen-101>:12\u001b[0m, in \u001b[0;36mplot_sensors\u001b[0;34m(info, kind, ch_type, title, show_names, ch_groups, to_sphere, axes, block, show, sphere, pointsize, linewidth, cmap, verbose)\u001b[0m\n",
      "File \u001b[0;32m~/.local/lib/python3.10/site-packages/mne/viz/utils.py:1098\u001b[0m, in \u001b[0;36mplot_sensors\u001b[0;34m(info, kind, ch_type, title, show_names, ch_groups, to_sphere, axes, block, show, sphere, pointsize, linewidth, cmap, verbose)\u001b[0m\n\u001b[1;32m   1095\u001b[0m     \u001b[38;5;28;01mraise\u001b[39;00m \u001b[38;5;167;01mValueError\u001b[39;00m(\u001b[38;5;124mf\u001b[39m\u001b[38;5;124m\"\u001b[39m\u001b[38;5;124mCould not find any channels of type \u001b[39m\u001b[38;5;132;01m{\u001b[39;00mch_type\u001b[38;5;132;01m}\u001b[39;00m\u001b[38;5;124m.\u001b[39m\u001b[38;5;124m\"\u001b[39m)\n\u001b[1;32m   1097\u001b[0m \u001b[38;5;28;01mif\u001b[39;00m \u001b[38;5;129;01mnot\u001b[39;00m _check_ch_locs(info\u001b[38;5;241m=\u001b[39minfo, picks\u001b[38;5;241m=\u001b[39mpicks):\n\u001b[0;32m-> 1098\u001b[0m     \u001b[38;5;28;01mraise\u001b[39;00m \u001b[38;5;167;01mRuntimeError\u001b[39;00m(\u001b[38;5;124m\"\u001b[39m\u001b[38;5;124mNo valid channel positions found\u001b[39m\u001b[38;5;124m\"\u001b[39m)\n\u001b[1;32m   1100\u001b[0m dev_head_t \u001b[38;5;241m=\u001b[39m info[\u001b[38;5;124m\"\u001b[39m\u001b[38;5;124mdev_head_t\u001b[39m\u001b[38;5;124m\"\u001b[39m]\n\u001b[1;32m   1101\u001b[0m chs \u001b[38;5;241m=\u001b[39m [info[\u001b[38;5;124m\"\u001b[39m\u001b[38;5;124mchs\u001b[39m\u001b[38;5;124m\"\u001b[39m][pick] \u001b[38;5;28;01mfor\u001b[39;00m pick \u001b[38;5;129;01min\u001b[39;00m picks]\n",
      "\u001b[0;31mRuntimeError\u001b[0m: No valid channel positions found"
     ]
    }
   ],
   "source": [
    "raw.plot_sensors()"
   ]
  },
  {
   "cell_type": "code",
   "execution_count": 14,
   "metadata": {},
   "outputs": [
    {
     "name": "stdout",
     "output_type": "stream",
     "text": [
      "Loading data for 514 events and 1792 original time points ...\n",
      "0 bad epochs dropped\n",
      "(514, 23, 1792)\n"
     ]
    }
   ],
   "source": [
    "print(x.get_data().shape)"
   ]
  }
 ],
 "metadata": {
  "kernelspec": {
   "display_name": "Python 3",
   "language": "python",
   "name": "python3"
  },
  "language_info": {
   "codemirror_mode": {
    "name": "ipython",
    "version": 3
   },
   "file_extension": ".py",
   "mimetype": "text/x-python",
   "name": "python",
   "nbconvert_exporter": "python",
   "pygments_lexer": "ipython3",
   "version": "3.10.13"
  }
 },
 "nbformat": 4,
 "nbformat_minor": 2
}
