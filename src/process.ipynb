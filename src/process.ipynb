{
 "cells": [
  {
   "cell_type": "code",
   "execution_count": 1,
   "metadata": {},
   "outputs": [],
   "source": [
    "#import numpy as np\n",
    "import matplotlib.pyplot as plt\n",
    "#import pyedflib\n",
    "import wfdb\n",
    "import glob\n",
    "import random\n",
    "import gc\n",
    "import mne\n",
    "from scipy.signal import find_peaks\n",
    "import re\n",
    "import tqdm\n",
    "import logging\n",
    "import os\n",
    "import numpy as np"
   ]
  },
  {
   "cell_type": "code",
   "execution_count": 2,
   "metadata": {},
   "outputs": [],
   "source": [
    "ch_labels = ['FP1-F7', 'F7-T7', 'T7-P7', 'P7-O1', 'FP1-F3', 'F3-C3', 'C3-P3','P3-O1',\n",
    "             'FP2-F4', 'F4-C4', 'C4-P4', 'P4-O2', 'FP2-F8', 'F8-T8', 'T8-P8', 'P8-O2',\n",
    "             'FZ-CZ', 'CZ-PZ']"
   ]
  },
  {
   "cell_type": "code",
   "execution_count": 3,
   "metadata": {},
   "outputs": [
    {
     "name": "stdout",
     "output_type": "stream",
     "text": [
      "01 02 03 04 05 06 07 08 09 10 11 12 13 14 15 16 17 18 19 20 21 22 23 24\n"
     ]
    }
   ],
   "source": [
    "path2pt = '/mnt/speech6/bagher/nemati/pytorch_datasets/chb_mit_raw'\n",
    "\n",
    "folders = sorted(glob.glob(path2pt+'/*/'))\n",
    "n_patient = [m[-2:] for m in [l.rsplit('/', 2)[-2] for l in folders]]\n",
    "\n",
    "print(*n_patient)"
   ]
  },
  {
   "cell_type": "code",
   "execution_count": 4,
   "metadata": {},
   "outputs": [
    {
     "name": "stdout",
     "output_type": "stream",
     "text": [
      "Train PT:  02 03 04 05 06 09 11 12 13 14 15 16 17 18 19 20 21 23 24\n",
      "Test PT:  01 07 08 10 22\n"
     ]
    }
   ],
   "source": [
    "random.seed(2023)\n",
    "\n",
    "ratio_train = 0.8\n",
    "train_patient_str = sorted(random.sample(n_patient, round(ratio_train*len(n_patient))))\n",
    "test_patient_str = sorted([l for l in n_patient if l not in train_patient_str])\n",
    "print('Train PT: ', *train_patient_str)\n",
    "print('Test PT: ', *test_patient_str)"
   ]
  },
  {
   "cell_type": "code",
   "execution_count": 5,
   "metadata": {},
   "outputs": [],
   "source": [
    "files_train = []\n",
    "for l in train_patient_str:\n",
    "    files_train = files_train + glob.glob(path2pt+'/chb{}/*.edf'.format(l))\n",
    "\n",
    "files_test = []\n",
    "for l in test_patient_str:\n",
    "    files_test = files_test + glob.glob(path2pt+'/chb{}/*.edf'.format(l))"
   ]
  },
  {
   "cell_type": "code",
   "execution_count": 6,
   "metadata": {},
   "outputs": [
    {
     "data": {
      "text/plain": [
       "(549, 137)"
      ]
     },
     "execution_count": 6,
     "metadata": {},
     "output_type": "execute_result"
    }
   ],
   "source": [
    "len(files_train), len(files_test)"
   ]
  },
  {
   "cell_type": "code",
   "execution_count": 7,
   "metadata": {},
   "outputs": [],
   "source": [
    "mne.set_log_level(verbose='ERROR')"
   ]
  },
  {
   "cell_type": "code",
   "execution_count": null,
   "metadata": {},
   "outputs": [],
   "source": [
    "logger = logging.getLogger(__name__)\n",
    "fh = logging.FileHandler('read_files.log')\n",
    "logger.addHandler(fh)\n",
    "\n",
    "time_window = 8\n",
    "time_step = 4\n",
    "\n",
    "root = \"/mnt/speech6/bagher/nemati/pytorch_datasets\"\n",
    "\n",
    "if os.path.exists(f'{root}/signal_samples.npy')&os.path.exists(f'{root}/is_sz.npy'):\n",
    "    array_signals=np.load(f'{root}/signal_samples.npy')\n",
    "    array_is_sz=np.load(f'{root}/is_sz.npy')\n",
    "else:\n",
    "    p = 0.01  \n",
    "    counter = 0\n",
    "    for temp_f in files_train:\n",
    "        temp_edf =  mne.io.read_raw_edf(temp_f)\n",
    "        temp_labels = temp_edf.ch_names\n",
    "        if sum([any([0 if re.match(c, l)==None else 1 for l in temp_edf.ch_names]) for c in ch_labels])==len(ch_labels):\n",
    "            time_window = 8\n",
    "            time_step = 4\n",
    "            fs = int(1/(temp_edf.times[1]-temp_edf.times[0]))\n",
    "            step_window = time_window*fs # 8*256\n",
    "            step = time_step*fs # 4*256\n",
    "            \n",
    "            temp_is_sz = np.zeros((temp_edf.n_times,))\n",
    "            if os.path.exists(temp_f+'.seizures'):\n",
    "                temp_annotation = wfdb.rdann(temp_f, 'seizures')\n",
    "                for i in range(int(temp_annotation.sample.size/2)):\n",
    "                    temp_is_sz[temp_annotation.sample[i*2]:temp_annotation.sample[i*2+1]]=1\n",
    "            temp_len = temp_edf.n_times # 100000*256\n",
    "            \n",
    "            temp_is_sz_ind = np.array(\n",
    "                [temp_is_sz[i*step:i*step+step_window].sum()/step_window for i in range((temp_len-step_window)//step)]\n",
    "            )\n",
    "\n",
    "            temp_0_sample_size = round(p*np.where(temp_is_sz_ind==0)[0].size)\n",
    "            temp_1_sample_size = np.where(temp_is_sz_ind>0)[0].size\n",
    "\n",
    "            counter = counter + temp_0_sample_size + temp_1_sample_size\n",
    "        temp_edf.close()\n",
    "\n",
    "    array_signals = np.zeros((counter, len(ch_labels), step_window), dtype=np.float32)\n",
    "    array_is_sz = np.zeros(counter, dtype=bool)\n",
    "\n",
    "    counter = 0\n",
    "    for n, temp_f in enumerate(tqdm.tqdm(files_train)):\n",
    "        to_log = 'No. {}: Reading. '.format(n)\n",
    "        temp_edf =  mne.io.read_raw_edf(temp_f)\n",
    "        temp_labels = temp_edf.ch_names\n",
    "        n_label_match = sum([any([0 if re.match(c, l)==None else 1 for l in temp_edf.ch_names]) for c in ch_labels])\n",
    "        if n_label_match==len(ch_labels):\n",
    "            ch_mapping = {sorted([l for l in temp_edf.ch_names if re.match(c, l)!=None ])[0]:c for c in ch_labels}\n",
    "            temp_edf.rename_channels(ch_mapping)\n",
    "            #temp_edf = temp_edf.pick(ch_labels)\n",
    "\n",
    "            temp_is_sz = np.zeros((temp_edf.n_times,))\n",
    "            temp_signals = temp_edf.get_data(picks=ch_labels)*1e6\n",
    "\n",
    "            if os.path.exists(temp_f+'.seizures'):\n",
    "                to_log = to_log+'sz exists.'\n",
    "                temp_annotation = wfdb.rdann(temp_f, 'seizures')\n",
    "                for i in range(int(temp_annotation.sample.size/2)):\n",
    "                    temp_is_sz[temp_annotation.sample[i*2]:temp_annotation.sample[i*2+1]]=1\n",
    "            else:\n",
    "                to_log = to_log+'No sz.'\n",
    "\n",
    "            temp_len = temp_edf.n_times\n",
    "\n",
    "            time_window = 8\n",
    "            time_step = 4\n",
    "            fs = int(1/(temp_edf.times[1]-temp_edf.times[0]))\n",
    "            step_window = time_window*fs\n",
    "            step = time_step*fs\n",
    "\n",
    "            temp_is_sz_ind = np.array(\n",
    "                [temp_is_sz[i*step:i*step+step_window].sum()/step_window for i in range((temp_len-step_window)//step)]\n",
    "            )\n",
    "            del temp_is_sz\n",
    "\n",
    "            temp_0_sample_size = round(p*np.where(temp_is_sz_ind==0)[0].size)\n",
    "            temp_1_sample_size = np.where(temp_is_sz_ind>0)[0].size\n",
    "\n",
    "            # sz data\n",
    "            temp_ind = list(np.where(temp_is_sz_ind>0)[0])\n",
    "            for i in temp_ind:\n",
    "                array_signals[counter, :, :] = temp_signals[:, i*step:i*step+step_window]\n",
    "                array_is_sz[counter] = True\n",
    "                counter = counter+1\n",
    "\n",
    "            # no sz data\n",
    "            temp_ind = random.sample(list(np.where(temp_is_sz_ind==0)[0]), temp_0_sample_size)\n",
    "            for i in temp_ind:\n",
    "                array_signals[counter, :, :] = temp_signals[:, i*step:i*step+step_window]\n",
    "                array_is_sz[counter] = False\n",
    "                counter = counter+1\n",
    "\n",
    "            to_log += '{} signals added: {} w/o sz, {} w/ sz.'.format(\n",
    "                temp_0_sample_size+temp_1_sample_size, temp_0_sample_size, temp_1_sample_size\n",
    "            )\n",
    "\n",
    "        else:\n",
    "            to_log += 'Not appropriate channel labels. Reading skipped.'.format(n)\n",
    "        \n",
    "        logger.info(to_log)\n",
    "        temp_edf.close()\n",
    "\n",
    "        if n%10==0:\n",
    "            gc.collect()\n",
    "    gc.collect()\n",
    "    \n",
    "    np.save('signal_samples', array_signals)\n",
    "    np.save('is_sz', array_is_sz)"
   ]
  },
  {
   "cell_type": "code",
   "execution_count": 13,
   "metadata": {},
   "outputs": [],
   "source": [
    "array_signals = np.load('signal_samples.npy')\n",
    "array_is_sz = np.load('is_sz.npy')"
   ]
  },
  {
   "cell_type": "code",
   "execution_count": 4,
   "metadata": {},
   "outputs": [
    {
     "data": {
      "text/plain": [
       "(36859, 18, 256)"
      ]
     },
     "execution_count": 4,
     "metadata": {},
     "output_type": "execute_result"
    }
   ],
   "source": [
    "array_signals.shape"
   ]
  },
  {
   "cell_type": "code",
   "execution_count": 14,
   "metadata": {},
   "outputs": [
    {
     "data": {
      "image/png": "[encoded data removed]",
      "text/plain": [
       "<Figure size 640x480 with 1 Axes>"
      ]
     },
     "metadata": {},
     "output_type": "display_data"
    }
   ],
   "source": [
    "# show a sample of extracted signals (the last one)\n",
    "\n",
    "vertical_width = 250\n",
    "signals = array_signals[-1, :, :]\n",
    "fs = 256\n",
    "\n",
    "fig, ax = plt.subplots()\n",
    "for i in range(signals.shape[0]):\n",
    "    ax.plot(np.arange(signals.shape[-1])/fs, signals[i, :]+i*vertical_width, linewidth=0.5, color='tab:blue')\n",
    "    ax.annotate(ch_labels[i], xy=(0, i*vertical_width))\n",
    "ax.invert_yaxis()\n",
    "plt.show()\n"
   ]
  },
  {
   "cell_type": "code",
   "execution_count": 15,
   "metadata": {},
   "outputs": [
    {
     "name": "stdout",
     "output_type": "stream",
     "text": [
      "Number of all the extracted signals: 36859\n",
      "Number of signals with seizures: 9188\n",
      "Ratio of signals with seizures: 0.249\n"
     ]
    }
   ],
   "source": [
    "# Checking how much of signals have seizure inside.\n",
    "\n",
    "array_n = np.where(array_is_sz>.0)[0]\n",
    "print('Number of all the extracted signals: {}'.format(array_is_sz.size))\n",
    "print('Number of signals with seizures: {}'.format(array_n.size))\n",
    "print('Ratio of signals with seizures: {:.3f}'.format(array_n.size/array_is_sz.size))"
   ]
  },
  {
   "cell_type": "code",
   "execution_count": 16,
   "metadata": {},
   "outputs": [
    {
     "name": "stdout",
     "output_type": "stream",
     "text": [
      "(36859, 18, 256, 1)\n",
      "(25801, 18, 256, 1)\n"
     ]
    }
   ],
   "source": [
    "from sklearn import model_selection\n",
    "\n",
    "# CNN will be used. Channel dimension is added.\n",
    "array_signals = array_signals[:, :, :, np.newaxis]\n",
    "\n",
    "print(array_signals.shape)\n",
    "\n",
    "# splitting training data into training & validation data.\n",
    "\n",
    "X_train, X_val, y_train, y_val = model_selection.train_test_split(\n",
    "    array_signals, array_is_sz, test_size=0.3,\n",
    "    stratify=(array_is_sz>0))\n",
    "\n",
    "del array_signals, array_is_sz\n",
    "\n",
    "print(X_train.shape)"
   ]
  },
  {
   "cell_type": "code",
   "execution_count": 9,
   "metadata": {},
   "outputs": [],
   "source": [
    "import torch as pt\n",
    "\n",
    "root = \"/mnt/speech6/bagher/nemati/pytorch_datasets/chb_mit_window_1\"\n",
    "items = glob.glob(f\"{root}/**/*.pt\", recursive=True)\n",
    "\n",
    "train_items = list(filter(lambda item: any([f\"chb{p}\" in item for p in train_patient_str]), items))\n",
    "test_items = list(filter(lambda item: any([f\"chb{p}\" in item for p in test_patient_str]), items))\n",
    "\n",
    "X_train = []\n",
    "y_train = []\n",
    "X_test = []\n",
    "y_test = []\n",
    "\n",
    "for item in train_items:\n",
    "    record = pt.load(item)\n",
    "    data = np.zeros((23, record[\"data\"].shape[1]), dtype=np.float32)\n",
    "    data[:record[\"data\"].shape[0]] = record[\"data\"]\n",
    "\n",
    "    X_train.append(data * 1e6)\n",
    "    y_train.append(record[\"labels\"].max())\n",
    "\n",
    "for item in test_items:\n",
    "    record = pt.load(item)\n",
    "    data = np.zeros((23, record[\"data\"].shape[1]), dtype=np.float32)\n",
    "    data[:record[\"data\"].shape[0]] = record[\"data\"]\n",
    "\n",
    "    X_test.append(data * 1e6)\n",
    "    y_test.append(record[\"labels\"].max())\n",
    "\n",
    "X_train = np.stack(X_train)\n",
    "y_train = np.array(y_train)\n",
    "X_test = np.stack(X_test)\n",
    "y_test = np.array(y_test)\n",
    "\n",
    "X_train = X_train[:, np.newaxis, :, :]\n",
    "X_test = X_test[:, np.newaxis, :, :]"
   ]
  },
  {
   "cell_type": "code",
   "execution_count": 10,
   "metadata": {},
   "outputs": [],
   "source": [
    "X_val = X_test\n",
    "y_val = y_test"
   ]
  },
  {
   "cell_type": "code",
   "execution_count": 11,
   "metadata": {},
   "outputs": [
    {
     "data": {
      "text/plain": [
       "(11685, 1, 23, 256)"
      ]
     },
     "execution_count": 11,
     "metadata": {},
     "output_type": "execute_result"
    }
   ],
   "source": [
    "X_val.shape"
   ]
  },
  {
   "cell_type": "code",
   "execution_count": 17,
   "metadata": {},
   "outputs": [
    {
     "data": {
      "text/html": [
       "<pre style=\"white-space:pre;overflow-x:auto;line-height:normal;font-family:Menlo,'DejaVu Sans Mono',consolas,'Courier New',monospace\"><span style=\"font-weight: bold\">Model: \"sequential_6\"</span>\n",
       "</pre>\n"
      ],
      "text/plain": [
       "\u001b[1mModel: \"sequential_6\"\u001b[0m\n"
      ]
     },
     "metadata": {},
     "output_type": "display_data"
    },
    {
     "data": {
      "text/html": [
       "<pre style=\"white-space:pre;overflow-x:auto;line-height:normal;font-family:Menlo,'DejaVu Sans Mono',consolas,'Courier New',monospace\">┏━━━━━━━━━━━━━━━━━━━━━━━━━━━━━━━━━┳━━━━━━━━━━━━━━━━━━━━━━━━┳━━━━━━━━━━━━━━━┓\n",
       "┃<span style=\"font-weight: bold\"> Layer (type)                    </span>┃<span style=\"font-weight: bold\"> Output Shape           </span>┃<span style=\"font-weight: bold\">       Param # </span>┃\n",
       "┡━━━━━━━━━━━━━━━━━━━━━━━━━━━━━━━━━╇━━━━━━━━━━━━━━━━━━━━━━━━╇━━━━━━━━━━━━━━━┩\n",
       "│ conv2d_31 (<span style=\"color: #0087ff; text-decoration-color: #0087ff\">Conv2D</span>)              │ (<span style=\"color: #00d7ff; text-decoration-color: #00d7ff\">None</span>, <span style=\"color: #00af00; text-decoration-color: #00af00\">64</span>, <span style=\"color: #00af00; text-decoration-color: #00af00\">23</span>, <span style=\"color: #00af00; text-decoration-color: #00af00\">256</span>)    │           <span style=\"color: #00af00; text-decoration-color: #00af00\">320</span> │\n",
       "├─────────────────────────────────┼────────────────────────┼───────────────┤\n",
       "│ conv2d_32 (<span style=\"color: #0087ff; text-decoration-color: #0087ff\">Conv2D</span>)              │ (<span style=\"color: #00d7ff; text-decoration-color: #00d7ff\">None</span>, <span style=\"color: #00af00; text-decoration-color: #00af00\">64</span>, <span style=\"color: #00af00; text-decoration-color: #00af00\">23</span>, <span style=\"color: #00af00; text-decoration-color: #00af00\">128</span>)    │        <span style=\"color: #00af00; text-decoration-color: #00af00\">16,448</span> │\n",
       "├─────────────────────────────────┼────────────────────────┼───────────────┤\n",
       "│ max_pooling2d_15 (<span style=\"color: #0087ff; text-decoration-color: #0087ff\">MaxPooling2D</span>) │ (<span style=\"color: #00d7ff; text-decoration-color: #00d7ff\">None</span>, <span style=\"color: #00af00; text-decoration-color: #00af00\">32</span>, <span style=\"color: #00af00; text-decoration-color: #00af00\">23</span>, <span style=\"color: #00af00; text-decoration-color: #00af00\">128</span>)    │             <span style=\"color: #00af00; text-decoration-color: #00af00\">0</span> │\n",
       "├─────────────────────────────────┼────────────────────────┼───────────────┤\n",
       "│ conv2d_33 (<span style=\"color: #0087ff; text-decoration-color: #0087ff\">Conv2D</span>)              │ (<span style=\"color: #00d7ff; text-decoration-color: #00d7ff\">None</span>, <span style=\"color: #00af00; text-decoration-color: #00af00\">128</span>, <span style=\"color: #00af00; text-decoration-color: #00af00\">23</span>, <span style=\"color: #00af00; text-decoration-color: #00af00\">128</span>)   │        <span style=\"color: #00af00; text-decoration-color: #00af00\">16,512</span> │\n",
       "├─────────────────────────────────┼────────────────────────┼───────────────┤\n",
       "│ conv2d_34 (<span style=\"color: #0087ff; text-decoration-color: #0087ff\">Conv2D</span>)              │ (<span style=\"color: #00d7ff; text-decoration-color: #00d7ff\">None</span>, <span style=\"color: #00af00; text-decoration-color: #00af00\">128</span>, <span style=\"color: #00af00; text-decoration-color: #00af00\">23</span>, <span style=\"color: #00af00; text-decoration-color: #00af00\">64</span>)    │        <span style=\"color: #00af00; text-decoration-color: #00af00\">65,664</span> │\n",
       "├─────────────────────────────────┼────────────────────────┼───────────────┤\n",
       "│ max_pooling2d_16 (<span style=\"color: #0087ff; text-decoration-color: #0087ff\">MaxPooling2D</span>) │ (<span style=\"color: #00d7ff; text-decoration-color: #00d7ff\">None</span>, <span style=\"color: #00af00; text-decoration-color: #00af00\">64</span>, <span style=\"color: #00af00; text-decoration-color: #00af00\">23</span>, <span style=\"color: #00af00; text-decoration-color: #00af00\">64</span>)     │             <span style=\"color: #00af00; text-decoration-color: #00af00\">0</span> │\n",
       "├─────────────────────────────────┼────────────────────────┼───────────────┤\n",
       "│ conv2d_35 (<span style=\"color: #0087ff; text-decoration-color: #0087ff\">Conv2D</span>)              │ (<span style=\"color: #00d7ff; text-decoration-color: #00d7ff\">None</span>, <span style=\"color: #00af00; text-decoration-color: #00af00\">256</span>, <span style=\"color: #00af00; text-decoration-color: #00af00\">23</span>, <span style=\"color: #00af00; text-decoration-color: #00af00\">64</span>)    │        <span style=\"color: #00af00; text-decoration-color: #00af00\">65,792</span> │\n",
       "├─────────────────────────────────┼────────────────────────┼───────────────┤\n",
       "│ conv2d_36 (<span style=\"color: #0087ff; text-decoration-color: #0087ff\">Conv2D</span>)              │ (<span style=\"color: #00d7ff; text-decoration-color: #00d7ff\">None</span>, <span style=\"color: #00af00; text-decoration-color: #00af00\">256</span>, <span style=\"color: #00af00; text-decoration-color: #00af00\">23</span>, <span style=\"color: #00af00; text-decoration-color: #00af00\">32</span>)    │       <span style=\"color: #00af00; text-decoration-color: #00af00\">262,400</span> │\n",
       "├─────────────────────────────────┼────────────────────────┼───────────────┤\n",
       "│ max_pooling2d_17 (<span style=\"color: #0087ff; text-decoration-color: #0087ff\">MaxPooling2D</span>) │ (<span style=\"color: #00d7ff; text-decoration-color: #00d7ff\">None</span>, <span style=\"color: #00af00; text-decoration-color: #00af00\">128</span>, <span style=\"color: #00af00; text-decoration-color: #00af00\">23</span>, <span style=\"color: #00af00; text-decoration-color: #00af00\">32</span>)    │             <span style=\"color: #00af00; text-decoration-color: #00af00\">0</span> │\n",
       "├─────────────────────────────────┼────────────────────────┼───────────────┤\n",
       "│ conv2d_37 (<span style=\"color: #0087ff; text-decoration-color: #0087ff\">Conv2D</span>)              │ (<span style=\"color: #00d7ff; text-decoration-color: #00d7ff\">None</span>, <span style=\"color: #00af00; text-decoration-color: #00af00\">1</span>, <span style=\"color: #00af00; text-decoration-color: #00af00\">23</span>, <span style=\"color: #00af00; text-decoration-color: #00af00\">32</span>)      │           <span style=\"color: #00af00; text-decoration-color: #00af00\">129</span> │\n",
       "├─────────────────────────────────┼────────────────────────┼───────────────┤\n",
       "│ global_average_pooling2d_5      │ (<span style=\"color: #00d7ff; text-decoration-color: #00d7ff\">None</span>, <span style=\"color: #00af00; text-decoration-color: #00af00\">32</span>)             │             <span style=\"color: #00af00; text-decoration-color: #00af00\">0</span> │\n",
       "│ (<span style=\"color: #0087ff; text-decoration-color: #0087ff\">GlobalAveragePooling2D</span>)        │                        │               │\n",
       "├─────────────────────────────────┼────────────────────────┼───────────────┤\n",
       "│ flatten_6 (<span style=\"color: #0087ff; text-decoration-color: #0087ff\">Flatten</span>)             │ (<span style=\"color: #00d7ff; text-decoration-color: #00d7ff\">None</span>, <span style=\"color: #00af00; text-decoration-color: #00af00\">32</span>)             │             <span style=\"color: #00af00; text-decoration-color: #00af00\">0</span> │\n",
       "├─────────────────────────────────┼────────────────────────┼───────────────┤\n",
       "│ dense_20 (<span style=\"color: #0087ff; text-decoration-color: #0087ff\">Dense</span>)                │ (<span style=\"color: #00d7ff; text-decoration-color: #00d7ff\">None</span>, <span style=\"color: #00af00; text-decoration-color: #00af00\">256</span>)            │         <span style=\"color: #00af00; text-decoration-color: #00af00\">8,448</span> │\n",
       "├─────────────────────────────────┼────────────────────────┼───────────────┤\n",
       "│ dropout_10 (<span style=\"color: #0087ff; text-decoration-color: #0087ff\">Dropout</span>)            │ (<span style=\"color: #00d7ff; text-decoration-color: #00d7ff\">None</span>, <span style=\"color: #00af00; text-decoration-color: #00af00\">256</span>)            │             <span style=\"color: #00af00; text-decoration-color: #00af00\">0</span> │\n",
       "├─────────────────────────────────┼────────────────────────┼───────────────┤\n",
       "│ dense_21 (<span style=\"color: #0087ff; text-decoration-color: #0087ff\">Dense</span>)                │ (<span style=\"color: #00d7ff; text-decoration-color: #00d7ff\">None</span>, <span style=\"color: #00af00; text-decoration-color: #00af00\">128</span>)            │        <span style=\"color: #00af00; text-decoration-color: #00af00\">32,896</span> │\n",
       "├─────────────────────────────────┼────────────────────────┼───────────────┤\n",
       "│ dense_22 (<span style=\"color: #0087ff; text-decoration-color: #0087ff\">Dense</span>)                │ (<span style=\"color: #00d7ff; text-decoration-color: #00d7ff\">None</span>, <span style=\"color: #00af00; text-decoration-color: #00af00\">64</span>)             │         <span style=\"color: #00af00; text-decoration-color: #00af00\">8,256</span> │\n",
       "├─────────────────────────────────┼────────────────────────┼───────────────┤\n",
       "│ dropout_11 (<span style=\"color: #0087ff; text-decoration-color: #0087ff\">Dropout</span>)            │ (<span style=\"color: #00d7ff; text-decoration-color: #00d7ff\">None</span>, <span style=\"color: #00af00; text-decoration-color: #00af00\">64</span>)             │             <span style=\"color: #00af00; text-decoration-color: #00af00\">0</span> │\n",
       "├─────────────────────────────────┼────────────────────────┼───────────────┤\n",
       "│ dense_23 (<span style=\"color: #0087ff; text-decoration-color: #0087ff\">Dense</span>)                │ (<span style=\"color: #00d7ff; text-decoration-color: #00d7ff\">None</span>, <span style=\"color: #00af00; text-decoration-color: #00af00\">2</span>)              │           <span style=\"color: #00af00; text-decoration-color: #00af00\">130</span> │\n",
       "└─────────────────────────────────┴────────────────────────┴───────────────┘\n",
       "</pre>\n"
      ],
      "text/plain": [
       "┏━━━━━━━━━━━━━━━━━━━━━━━━━━━━━━━━━┳━━━━━━━━━━━━━━━━━━━━━━━━┳━━━━━━━━━━━━━━━┓\n",
       "┃\u001b[1m \u001b[0m\u001b[1mLayer (type)                   \u001b[0m\u001b[1m \u001b[0m┃\u001b[1m \u001b[0m\u001b[1mOutput Shape          \u001b[0m\u001b[1m \u001b[0m┃\u001b[1m \u001b[0m\u001b[1m      Param #\u001b[0m\u001b[1m \u001b[0m┃\n",
       "┡━━━━━━━━━━━━━━━━━━━━━━━━━━━━━━━━━╇━━━━━━━━━━━━━━━━━━━━━━━━╇━━━━━━━━━━━━━━━┩\n",
       "│ conv2d_31 (\u001b[38;5;33mConv2D\u001b[0m)              │ (\u001b[38;5;45mNone\u001b[0m, \u001b[38;5;34m64\u001b[0m, \u001b[38;5;34m23\u001b[0m, \u001b[38;5;34m256\u001b[0m)    │           \u001b[38;5;34m320\u001b[0m │\n",
       "├─────────────────────────────────┼────────────────────────┼───────────────┤\n",
       "│ conv2d_32 (\u001b[38;5;33mConv2D\u001b[0m)              │ (\u001b[38;5;45mNone\u001b[0m, \u001b[38;5;34m64\u001b[0m, \u001b[38;5;34m23\u001b[0m, \u001b[38;5;34m128\u001b[0m)    │        \u001b[38;5;34m16,448\u001b[0m │\n",
       "├─────────────────────────────────┼────────────────────────┼───────────────┤\n",
       "│ max_pooling2d_15 (\u001b[38;5;33mMaxPooling2D\u001b[0m) │ (\u001b[38;5;45mNone\u001b[0m, \u001b[38;5;34m32\u001b[0m, \u001b[38;5;34m23\u001b[0m, \u001b[38;5;34m128\u001b[0m)    │             \u001b[38;5;34m0\u001b[0m │\n",
       "├─────────────────────────────────┼────────────────────────┼───────────────┤\n",
       "│ conv2d_33 (\u001b[38;5;33mConv2D\u001b[0m)              │ (\u001b[38;5;45mNone\u001b[0m, \u001b[38;5;34m128\u001b[0m, \u001b[38;5;34m23\u001b[0m, \u001b[38;5;34m128\u001b[0m)   │        \u001b[38;5;34m16,512\u001b[0m │\n",
       "├─────────────────────────────────┼────────────────────────┼───────────────┤\n",
       "│ conv2d_34 (\u001b[38;5;33mConv2D\u001b[0m)              │ (\u001b[38;5;45mNone\u001b[0m, \u001b[38;5;34m128\u001b[0m, \u001b[38;5;34m23\u001b[0m, \u001b[38;5;34m64\u001b[0m)    │        \u001b[38;5;34m65,664\u001b[0m │\n",
       "├─────────────────────────────────┼────────────────────────┼───────────────┤\n",
       "│ max_pooling2d_16 (\u001b[38;5;33mMaxPooling2D\u001b[0m) │ (\u001b[38;5;45mNone\u001b[0m, \u001b[38;5;34m64\u001b[0m, \u001b[38;5;34m23\u001b[0m, \u001b[38;5;34m64\u001b[0m)     │             \u001b[38;5;34m0\u001b[0m │\n",
       "├─────────────────────────────────┼────────────────────────┼───────────────┤\n",
       "│ conv2d_35 (\u001b[38;5;33mConv2D\u001b[0m)              │ (\u001b[38;5;45mNone\u001b[0m, \u001b[38;5;34m256\u001b[0m, \u001b[38;5;34m23\u001b[0m, \u001b[38;5;34m64\u001b[0m)    │        \u001b[38;5;34m65,792\u001b[0m │\n",
       "├─────────────────────────────────┼────────────────────────┼───────────────┤\n",
       "│ conv2d_36 (\u001b[38;5;33mConv2D\u001b[0m)              │ (\u001b[38;5;45mNone\u001b[0m, \u001b[38;5;34m256\u001b[0m, \u001b[38;5;34m23\u001b[0m, \u001b[38;5;34m32\u001b[0m)    │       \u001b[38;5;34m262,400\u001b[0m │\n",
       "├─────────────────────────────────┼────────────────────────┼───────────────┤\n",
       "│ max_pooling2d_17 (\u001b[38;5;33mMaxPooling2D\u001b[0m) │ (\u001b[38;5;45mNone\u001b[0m, \u001b[38;5;34m128\u001b[0m, \u001b[38;5;34m23\u001b[0m, \u001b[38;5;34m32\u001b[0m)    │             \u001b[38;5;34m0\u001b[0m │\n",
       "├─────────────────────────────────┼────────────────────────┼───────────────┤\n",
       "│ conv2d_37 (\u001b[38;5;33mConv2D\u001b[0m)              │ (\u001b[38;5;45mNone\u001b[0m, \u001b[38;5;34m1\u001b[0m, \u001b[38;5;34m23\u001b[0m, \u001b[38;5;34m32\u001b[0m)      │           \u001b[38;5;34m129\u001b[0m │\n",
       "├─────────────────────────────────┼────────────────────────┼───────────────┤\n",
       "│ global_average_pooling2d_5      │ (\u001b[38;5;45mNone\u001b[0m, \u001b[38;5;34m32\u001b[0m)             │             \u001b[38;5;34m0\u001b[0m │\n",
       "│ (\u001b[38;5;33mGlobalAveragePooling2D\u001b[0m)        │                        │               │\n",
       "├─────────────────────────────────┼────────────────────────┼───────────────┤\n",
       "│ flatten_6 (\u001b[38;5;33mFlatten\u001b[0m)             │ (\u001b[38;5;45mNone\u001b[0m, \u001b[38;5;34m32\u001b[0m)             │             \u001b[38;5;34m0\u001b[0m │\n",
       "├─────────────────────────────────┼────────────────────────┼───────────────┤\n",
       "│ dense_20 (\u001b[38;5;33mDense\u001b[0m)                │ (\u001b[38;5;45mNone\u001b[0m, \u001b[38;5;34m256\u001b[0m)            │         \u001b[38;5;34m8,448\u001b[0m │\n",
       "├─────────────────────────────────┼────────────────────────┼───────────────┤\n",
       "│ dropout_10 (\u001b[38;5;33mDropout\u001b[0m)            │ (\u001b[38;5;45mNone\u001b[0m, \u001b[38;5;34m256\u001b[0m)            │             \u001b[38;5;34m0\u001b[0m │\n",
       "├─────────────────────────────────┼────────────────────────┼───────────────┤\n",
       "│ dense_21 (\u001b[38;5;33mDense\u001b[0m)                │ (\u001b[38;5;45mNone\u001b[0m, \u001b[38;5;34m128\u001b[0m)            │        \u001b[38;5;34m32,896\u001b[0m │\n",
       "├─────────────────────────────────┼────────────────────────┼───────────────┤\n",
       "│ dense_22 (\u001b[38;5;33mDense\u001b[0m)                │ (\u001b[38;5;45mNone\u001b[0m, \u001b[38;5;34m64\u001b[0m)             │         \u001b[38;5;34m8,256\u001b[0m │\n",
       "├─────────────────────────────────┼────────────────────────┼───────────────┤\n",
       "│ dropout_11 (\u001b[38;5;33mDropout\u001b[0m)            │ (\u001b[38;5;45mNone\u001b[0m, \u001b[38;5;34m64\u001b[0m)             │             \u001b[38;5;34m0\u001b[0m │\n",
       "├─────────────────────────────────┼────────────────────────┼───────────────┤\n",
       "│ dense_23 (\u001b[38;5;33mDense\u001b[0m)                │ (\u001b[38;5;45mNone\u001b[0m, \u001b[38;5;34m2\u001b[0m)              │           \u001b[38;5;34m130\u001b[0m │\n",
       "└─────────────────────────────────┴────────────────────────┴───────────────┘\n"
      ]
     },
     "metadata": {},
     "output_type": "display_data"
    },
    {
     "data": {
      "text/html": [
       "<pre style=\"white-space:pre;overflow-x:auto;line-height:normal;font-family:Menlo,'DejaVu Sans Mono',consolas,'Courier New',monospace\"><span style=\"font-weight: bold\"> Total params: </span><span style=\"color: #00af00; text-decoration-color: #00af00\">476,995</span> (1.82 MB)\n",
       "</pre>\n"
      ],
      "text/plain": [
       "\u001b[1m Total params: \u001b[0m\u001b[38;5;34m476,995\u001b[0m (1.82 MB)\n"
      ]
     },
     "metadata": {},
     "output_type": "display_data"
    },
    {
     "data": {
      "text/html": [
       "<pre style=\"white-space:pre;overflow-x:auto;line-height:normal;font-family:Menlo,'DejaVu Sans Mono',consolas,'Courier New',monospace\"><span style=\"font-weight: bold\"> Trainable params: </span><span style=\"color: #00af00; text-decoration-color: #00af00\">476,995</span> (1.82 MB)\n",
       "</pre>\n"
      ],
      "text/plain": [
       "\u001b[1m Trainable params: \u001b[0m\u001b[38;5;34m476,995\u001b[0m (1.82 MB)\n"
      ]
     },
     "metadata": {},
     "output_type": "display_data"
    },
    {
     "data": {
      "text/html": [
       "<pre style=\"white-space:pre;overflow-x:auto;line-height:normal;font-family:Menlo,'DejaVu Sans Mono',consolas,'Courier New',monospace\"><span style=\"font-weight: bold\"> Non-trainable params: </span><span style=\"color: #00af00; text-decoration-color: #00af00\">0</span> (0.00 B)\n",
       "</pre>\n"
      ],
      "text/plain": [
       "\u001b[1m Non-trainable params: \u001b[0m\u001b[38;5;34m0\u001b[0m (0.00 B)\n"
      ]
     },
     "metadata": {},
     "output_type": "display_data"
    }
   ],
   "source": [
    "import tensorflow as tf\n",
    "from tensorflow import keras\n",
    "from tensorflow.keras import layers\n",
    "from tensorflow.keras.callbacks import ReduceLROnPlateau, EarlyStopping\n",
    "\n",
    "model = keras.models.Sequential([\n",
    "    layers.Conv2D(filters=64, kernel_size=(1, 4), data_format=\"channels_first\", activation='relu', input_shape=X_train.shape[1:]),\n",
    "    layers.Conv2D(filters=64, kernel_size=(1, 4), data_format=\"channels_first\", activation='relu'),\n",
    "    layers.MaxPooling2D((2, 1)),\n",
    "\n",
    "    layers.Conv2D(filters=128, kernel_size=(1, 8), data_format=\"channels_first\", activation='relu'),\n",
    "    layers.Conv2D(filters=128, kernel_size=(1, 8), data_format=\"channels_first\", activation='relu'),\n",
    "    layers.MaxPooling2D((2, 1)),\n",
    "    \n",
    "    layers.Conv2D(filters=256, kernel_size=(1, 16), data_format=\"channels_first\", activation='relu'),\n",
    "    layers.Conv2D(filters=256, kernel_size=(1, 16), data_format=\"channels_first\", activation='relu'),\n",
    "    layers.MaxPooling2D((2, 1)),\n",
    "\n",
    "    layers.Conv2D(filters=1, kernel_size=(1, 1), data_format=\"channels_first\", padding='same', activation='relu'),\n",
    "\n",
    "    layers.Dense(256, activation='relu'),\n",
    "    layers.Dropout(0.25),\n",
    "    layers.Dense(128, activation='relu'),\n",
    "    layers.Dense(64, activation='relu'),\n",
    "    layers.Dropout(0.25),\n",
    "    layers.Dense(2, activation='softmax'),\n",
    "])\n",
    "\n",
    "model.summary()"
   ]
  },
  {
   "cell_type": "code",
   "execution_count": 18,
   "metadata": {},
   "outputs": [
    {
     "name": "stdout",
     "output_type": "stream",
     "text": [
      "Epoch 1/200\n"
     ]
    },
    {
     "name": "stderr",
     "output_type": "stream",
     "text": [
      "WARNING: All log messages before absl::InitializeLog() is called are written to STDERR\n",
      "I0000 00:00:1719907004.233245 2506379 service.cc:145] XLA service 0x722bc8006290 initialized for platform CUDA (this does not guarantee that XLA will be used). Devices:\n",
      "I0000 00:00:1719907004.233293 2506379 service.cc:153]   StreamExecutor device (0): Tesla V100-PCIE-32GB, Compute Capability 7.0\n",
      "I0000 00:00:1719907004.233299 2506379 service.cc:153]   StreamExecutor device (1): Tesla V100-PCIE-32GB, Compute Capability 7.0\n",
      "2024-07-02 00:56:44.357471: I tensorflow/compiler/mlir/tensorflow/utils/dump_mlir_util.cc:268] disabling MLIR crash reproducer, set env var `MLIR_CRASH_REPRODUCER_DIRECTORY` to enable.\n",
      "2024-07-02 00:56:44.807853: I external/local_xla/xla/stream_executor/cuda/cuda_dnn.cc:465] Loaded cuDNN version 8902\n",
      "2024-07-02 00:56:50.226936: E external/local_xla/xla/service/slow_operation_alarm.cc:65] Trying algorithm eng0{} for conv (f32[256,256,23,64]{3,2,1,0}, u8[0]{0}) custom-call(f32[256,256,23,32]{3,2,1,0}, f32[256,256,1,4]{3,2,1,0}), window={size=1x4 stride=1x2 pad=0_0x1_1}, dim_labels=bf01_oi01->bf01, custom_call_target=\"__cudnn$convBackwardInput\", backend_config={\"operation_queue_id\":\"0\",\"wait_on_operation_queues\":[],\"cudnn_conv_backend_config\":{\"conv_result_scale\":1,\"activation_mode\":\"kNone\",\"side_input_scale\":0,\"leakyrelu_alpha\":0}} is taking a while...\n",
      "2024-07-02 00:56:50.291421: E external/local_xla/xla/service/slow_operation_alarm.cc:133] The operation took 1.064647234s\n",
      "Trying algorithm eng0{} for conv (f32[256,256,23,64]{3,2,1,0}, u8[0]{0}) custom-call(f32[256,256,23,32]{3,2,1,0}, f32[256,256,1,4]{3,2,1,0}), window={size=1x4 stride=1x2 pad=0_0x1_1}, dim_labels=bf01_oi01->bf01, custom_call_target=\"__cudnn$convBackwardInput\", backend_config={\"operation_queue_id\":\"0\",\"wait_on_operation_queues\":[],\"cudnn_conv_backend_config\":{\"conv_result_scale\":1,\"activation_mode\":\"kNone\",\"side_input_scale\":0,\"leakyrelu_alpha\":0}} is taking a while...\n"
     ]
    },
    {
     "name": "stdout",
     "output_type": "stream",
     "text": [
      "\u001b[1m  2/140\u001b[0m \u001b[37m━━━━━━━━━━━━━━━━━━━━\u001b[0m \u001b[1m12s\u001b[0m 94ms/step - accuracy: 0.4824 - loss: 0.6932 "
     ]
    },
    {
     "name": "stderr",
     "output_type": "stream",
     "text": [
      "I0000 00:00:1719907017.944047 2506379 device_compiler.h:188] Compiled cluster using XLA!  This line is logged at most once for the lifetime of the process.\n"
     ]
    },
    {
     "name": "stdout",
     "output_type": "stream",
     "text": [
      "\u001b[1m140/140\u001b[0m \u001b[32m━━━━━━━━━━━━━━━━━━━━\u001b[0m\u001b[37m\u001b[0m \u001b[1m42s\u001b[0m 192ms/step - accuracy: 0.7833 - loss: 0.6707 - val_accuracy: 0.8000 - val_loss: 0.5474\n",
      "Epoch 2/200\n",
      "\u001b[1m140/140\u001b[0m \u001b[32m━━━━━━━━━━━━━━━━━━━━\u001b[0m\u001b[37m\u001b[0m \u001b[1m14s\u001b[0m 98ms/step - accuracy: 0.8006 - loss: 0.5222 - val_accuracy: 0.8000 - val_loss: 0.5004\n",
      "Epoch 3/200\n",
      "\u001b[1m140/140\u001b[0m \u001b[32m━━━━━━━━━━━━━━━━━━━━\u001b[0m\u001b[37m\u001b[0m \u001b[1m14s\u001b[0m 98ms/step - accuracy: 0.7968 - loss: 0.5087 - val_accuracy: 0.8000 - val_loss: 0.5004\n",
      "Epoch 4/200\n",
      "\u001b[1m140/140\u001b[0m \u001b[32m━━━━━━━━━━━━━━━━━━━━\u001b[0m\u001b[37m\u001b[0m \u001b[1m14s\u001b[0m 98ms/step - accuracy: 0.7990 - loss: 0.5046 - val_accuracy: 0.8000 - val_loss: 0.5005\n",
      "Epoch 5/200\n",
      "\u001b[1m140/140\u001b[0m \u001b[32m━━━━━━━━━━━━━━━━━━━━\u001b[0m\u001b[37m\u001b[0m \u001b[1m14s\u001b[0m 98ms/step - accuracy: 0.7979 - loss: 0.5075 - val_accuracy: 0.8000 - val_loss: 0.5004\n",
      "Epoch 6/200\n",
      "\u001b[1m140/140\u001b[0m \u001b[32m━━━━━━━━━━━━━━━━━━━━\u001b[0m\u001b[37m\u001b[0m \u001b[1m14s\u001b[0m 98ms/step - accuracy: 0.7975 - loss: 0.5079 - val_accuracy: 0.8000 - val_loss: 0.5005\n",
      "Epoch 7/200\n",
      "\u001b[1m140/140\u001b[0m \u001b[32m━━━━━━━━━━━━━━━━━━━━\u001b[0m\u001b[37m\u001b[0m \u001b[1m14s\u001b[0m 98ms/step - accuracy: 0.8036 - loss: 0.4992 - val_accuracy: 0.8000 - val_loss: 0.5005\n",
      "Epoch 8/200\n",
      "\u001b[1m140/140\u001b[0m \u001b[32m━━━━━━━━━━━━━━━━━━━━\u001b[0m\u001b[37m\u001b[0m \u001b[1m14s\u001b[0m 98ms/step - accuracy: 0.8003 - loss: 0.5028 - val_accuracy: 0.8000 - val_loss: 0.5004\n",
      "Epoch 9/200\n",
      "\u001b[1m140/140\u001b[0m \u001b[32m━━━━━━━━━━━━━━━━━━━━\u001b[0m\u001b[37m\u001b[0m \u001b[1m14s\u001b[0m 98ms/step - accuracy: 0.8005 - loss: 0.5036 - val_accuracy: 0.8000 - val_loss: 0.5004\n",
      "Epoch 10/200\n",
      "\u001b[1m140/140\u001b[0m \u001b[32m━━━━━━━━━━━━━━━━━━━━\u001b[0m\u001b[37m\u001b[0m \u001b[1m14s\u001b[0m 98ms/step - accuracy: 0.8007 - loss: 0.5017 - val_accuracy: 0.8000 - val_loss: 0.5004\n",
      "Epoch 11/200\n",
      "\u001b[1m140/140\u001b[0m \u001b[32m━━━━━━━━━━━━━━━━━━━━\u001b[0m\u001b[37m\u001b[0m \u001b[1m14s\u001b[0m 102ms/step - accuracy: 0.8010 - loss: 0.5013 - val_accuracy: 0.8000 - val_loss: 0.5006\n",
      "Epoch 12/200\n",
      "\u001b[1m140/140\u001b[0m \u001b[32m━━━━━━━━━━━━━━━━━━━━\u001b[0m\u001b[37m\u001b[0m \u001b[1m14s\u001b[0m 103ms/step - accuracy: 0.7969 - loss: 0.5077 - val_accuracy: 0.8000 - val_loss: 0.5004\n",
      "Epoch 13/200\n",
      "\u001b[1m140/140\u001b[0m \u001b[32m━━━━━━━━━━━━━━━━━━━━\u001b[0m\u001b[37m\u001b[0m \u001b[1m14s\u001b[0m 103ms/step - accuracy: 0.7969 - loss: 0.5069 - val_accuracy: 0.8000 - val_loss: 0.5004\n",
      "Epoch 14/200\n",
      "\u001b[1m140/140\u001b[0m \u001b[32m━━━━━━━━━━━━━━━━━━━━\u001b[0m\u001b[37m\u001b[0m \u001b[1m15s\u001b[0m 106ms/step - accuracy: 0.7991 - loss: 0.5048 - val_accuracy: 0.8000 - val_loss: 0.5007\n",
      "Epoch 15/200\n",
      "\u001b[1m140/140\u001b[0m \u001b[32m━━━━━━━━━━━━━━━━━━━━\u001b[0m\u001b[37m\u001b[0m \u001b[1m14s\u001b[0m 103ms/step - accuracy: 0.7986 - loss: 0.5044 - val_accuracy: 0.8000 - val_loss: 0.5004\n",
      "Epoch 16/200\n",
      "\u001b[1m140/140\u001b[0m \u001b[32m━━━━━━━━━━━━━━━━━━━━\u001b[0m\u001b[37m\u001b[0m \u001b[1m15s\u001b[0m 107ms/step - accuracy: 0.8009 - loss: 0.5015 - val_accuracy: 0.8000 - val_loss: 0.5004\n",
      "Epoch 17/200\n",
      "\u001b[1m140/140\u001b[0m \u001b[32m━━━━━━━━━━━━━━━━━━━━\u001b[0m\u001b[37m\u001b[0m \u001b[1m14s\u001b[0m 103ms/step - accuracy: 0.8035 - loss: 0.4986 - val_accuracy: 0.8000 - val_loss: 0.5006\n",
      "Epoch 18/200\n",
      "\u001b[1m140/140\u001b[0m \u001b[32m━━━━━━━━━━━━━━━━━━━━\u001b[0m\u001b[37m\u001b[0m \u001b[1m15s\u001b[0m 103ms/step - accuracy: 0.8016 - loss: 0.5008 - val_accuracy: 0.8000 - val_loss: 0.5005\n",
      "Epoch 19/200\n",
      "\u001b[1m140/140\u001b[0m \u001b[32m━━━━━━━━━━━━━━━━━━━━\u001b[0m\u001b[37m\u001b[0m \u001b[1m15s\u001b[0m 107ms/step - accuracy: 0.7962 - loss: 0.5092 - val_accuracy: 0.8000 - val_loss: 0.5005\n",
      "Epoch 20/200\n",
      "\u001b[1m 33/140\u001b[0m \u001b[32m━━━━\u001b[0m\u001b[37m━━━━━━━━━━━━━━━━\u001b[0m \u001b[1m10s\u001b[0m 99ms/step - accuracy: 0.8004 - loss: 0.5036"
     ]
    },
    {
     "ename": "",
     "evalue": "",
     "output_type": "error",
     "traceback": [
      "\u001b[1;31mThe Kernel crashed while executing code in the current cell or a previous cell. \n",
      "\u001b[1;31mPlease review the code in the cell(s) to identify a possible cause of the failure. \n",
      "\u001b[1;31mClick <a href='https://aka.ms/vscodeJupyterKernelCrash'>here</a> for more info. \n",
      "\u001b[1;31mView Jupyter <a href='command:jupyter.viewOutput'>log</a> for further details."
     ]
    }
   ],
   "source": [
    "model.compile(optimizer=tf.keras.optimizers.Adam(learning_rate=1e-4), loss='sparse_categorical_crossentropy', metrics=['accuracy'])\n",
    "\n",
    "hist = model.fit(\n",
    "    x=X_train, y=y_train,\n",
    "    validation_data=(X_val, y_val + 0),\n",
    "    epochs=200,\n",
    "    batch_size=256,\n",
    "    callbacks=[\n",
    "        EarlyStopping(monitor='val_loss', patience=20, verbose=1, mode='auto', restore_best_weights=True)\n",
    "    ]\n",
    ")"
   ]
  },
  {
   "cell_type": "code",
   "execution_count": 10,
   "metadata": {},
   "outputs": [],
   "source": [
    "import numpy as np\n",
    "import torch as pt\n",
    "import torch.nn as T\n",
    "import lightning as L\n",
    "import torchmetrics as M\n",
    "\n",
    "from torch.utils.data import DataLoader\n",
    "\n",
    "class EEGCNN(L.LightningModule):\n",
    "    def __init__(self):\n",
    "        super().__init__()\n",
    "        self.save_hyperparameters({})\n",
    "        self.loss = pt.nn.CrossEntropyLoss()\n",
    "\n",
    "        self.metrics = M.MetricCollection({\n",
    "            # \"f1\": M.F1Score(task=\"multiclass\", num_classes=num_classes),\n",
    "            # \"recall\": M.Recall(task=\"multiclass\", num_classes=num_classes),\n",
    "            \"accuracy\": M.Accuracy(task=\"multiclass\", num_classes=2),\n",
    "            # \"precision\": M.Precision(task=\"multiclass\", num_classes=num_classes),\n",
    "        })\n",
    "\n",
    "        self.training_metrics = self.metrics.clone(prefix=\"training/\")\n",
    "        self.validation_metrics = self.metrics.clone(prefix=\"validation/\")\n",
    "\n",
    "        self.model = T.Sequential(\n",
    "            T.Conv2d(in_channels=1, out_channels=64, kernel_size=(2, 4), padding='same'),\n",
    "            T.ReLU(),\n",
    "            T.Conv2d(in_channels=64, out_channels=64, kernel_size=(2, 4), stride=(1, 2)),\n",
    "            T.ReLU(),\n",
    "            T.MaxPool2d((1, 2)),\n",
    "\n",
    "            T.Conv2d(in_channels=64, out_channels=128, kernel_size=(2, 4), padding='same'),\n",
    "            T.ReLU(),\n",
    "            T.Conv2d(in_channels=128, out_channels=128, kernel_size=(2, 4), stride=(1, 2)),\n",
    "            T.ReLU(),\n",
    "            T.MaxPool2d((2, 2)),\n",
    "\n",
    "            T.Conv2d(in_channels=128, out_channels=256, kernel_size=(4, 4), padding='same'),\n",
    "            T.ReLU(),\n",
    "            T.Conv2d(in_channels=256, out_channels=256, kernel_size=(4, 4), stride=(1, 2)),\n",
    "            T.ReLU(),\n",
    "            T.MaxPool2d((1, 2)),\n",
    "\n",
    "            T.AdaptiveAvgPool2d((1, 1)),\n",
    "            T.Flatten(),\n",
    "\n",
    "            T.Linear(256, 256),\n",
    "            T.ReLU(),\n",
    "            T.Dropout(0.25),\n",
    "            T.Linear(256, 128),\n",
    "            T.ReLU(),\n",
    "            T.Linear(128, 64),\n",
    "            T.ReLU(),\n",
    "            T.Dropout(0.25),\n",
    "            T.Linear(64, 2),\n",
    "            # T.Softmax(dim=-1),\n",
    "        )\n",
    "        def init_weights(m):\n",
    "            if isinstance(m, T.Linear):\n",
    "                T.init.xavier_uniform_(m.weight)\n",
    "                m.bias.data.fill_(0.01)\n",
    "        \n",
    "        self.model.apply(init_weights)\n",
    "\n",
    "    def forward(self, x):\n",
    "        return self.model(x)\n",
    "\n",
    "    def configure_optimizers(self):\n",
    "        optimizer = pt.optim.Adam(self.model.parameters(), lr=1e-4)\n",
    "        # scheduler = pt.optim.lr_scheduler.StepLR(optimizer, step_size=1, gamma=0.9)\n",
    "        return [optimizer]\n",
    "\n",
    "    def on_train_start(self):\n",
    "        self.logger.log_hyperparams(self.hparams, {\n",
    "            \"training/f1\": 0,\n",
    "            \"training/recall\": 0,\n",
    "            \"training/accuracy\": 0,\n",
    "            \"training/precision\": 0,\n",
    "        })\n",
    "\n",
    "    def general_step(self, batch):\n",
    "        batch_size = len(batch[1])\n",
    "        args = (batch[0],)\n",
    "        y = batch[1]\n",
    "\n",
    "        pred = self.forward(*args)\n",
    "        loss = self.loss(pred, y)\n",
    "        pred = pred.argmax(-1)\n",
    "\n",
    "        return (batch_size, args, loss, pred, y)\n",
    "\n",
    "    def training_step(self, batch):\n",
    "        batch_size, _, loss, pred, y = self.general_step(batch)\n",
    "\n",
    "        self.log(\"training/loss\", loss, batch_size=batch_size, prog_bar=True, sync_dist=True)\n",
    "        self.log_dict(self.training_metrics(pred, y), batch_size=batch_size, prog_bar=True, sync_dist=True)\n",
    "\n",
    "        return loss\n",
    "\n",
    "    def validation_step(self, batch):\n",
    "        batch_size, _, loss, pred, y = self.general_step(batch)\n",
    "\n",
    "        self.log(\"validation/loss\", loss, batch_size=batch_size, prog_bar=True, sync_dist=True)\n",
    "        self.log_dict(self.validation_metrics(pred, y), batch_size=batch_size, prog_bar=True, sync_dist=True)"
   ]
  },
  {
   "cell_type": "code",
   "execution_count": 12,
   "metadata": {},
   "outputs": [
    {
     "name": "stderr",
     "output_type": "stream",
     "text": [
      "Trainer will use only 1 of 2 GPUs because it is running inside an interactive / notebook environment. You may try to set `Trainer(devices=2)` but please note that multi-GPU inside interactive / notebook environments is considered experimental and unstable. Your mileage may vary.\n",
      "GPU available: True (cuda), used: True\n",
      "TPU available: False, using: 0 TPU cores\n",
      "IPU available: False, using: 0 IPUs\n",
      "HPU available: False, using: 0 HPUs\n",
      "LOCAL_RANK: 0 - CUDA_VISIBLE_DEVICES: [0,1]\n",
      "\n",
      "  | Name               | Type             | Params\n",
      "--------------------------------------------------------\n",
      "0 | loss               | CrossEntropyLoss | 0     \n",
      "1 | metrics            | MetricCollection | 0     \n",
      "2 | training_metrics   | MetricCollection | 0     \n",
      "3 | validation_metrics | MetricCollection | 0     \n",
      "4 | model              | Sequential       | 1.9 M \n",
      "--------------------------------------------------------\n",
      "1.9 M     Trainable params\n",
      "0         Non-trainable params\n",
      "1.9 M     Total params\n",
      "7.643     Total estimated model params size (MB)\n"
     ]
    },
    {
     "name": "stdout",
     "output_type": "stream",
     "text": [
      "Epoch 24:  54%|█████▎    | 75/140 [00:14<00:12,  5.21it/s, v_num=1, training/loss=0.035, training/accuracy=0.992, validation/loss=0.928, validation/accuracy=0.888]   "
     ]
    },
    {
     "name": "stderr",
     "output_type": "stream",
     "text": [
      "/mnt/speech6/bagher/nemati/miniconda3/lib/python3.12/site-packages/lightning/pytorch/trainer/call.py:54: Detected KeyboardInterrupt, attempting graceful shutdown...\n"
     ]
    }
   ],
   "source": [
    "import lightning as L\n",
    "\n",
    "class DataSet:\n",
    "    def __init__(self, X, y):\n",
    "        self.X = X\n",
    "        self.y = y\n",
    "\n",
    "    def __len__(self):\n",
    "        return len(self.X)\n",
    "    \n",
    "    def __getitem__(self, index):\n",
    "        return (self.X[index], self.y[index] + 0)\n",
    "\n",
    "trainer = L.Trainer(max_epochs=50)\n",
    "trainer.fit(\n",
    "    model=EEGCNN(),\n",
    "    train_dataloaders=DataLoader(dataset=DataSet(X=X_train, y=y_train), batch_size=256, shuffle=True),\n",
    "    val_dataloaders=DataLoader(dataset=DataSet(X=X_val, y=y_val), batch_size=256)\n",
    ")"
   ]
  }
 ],
 "metadata": {
  "kernelspec": {
   "display_name": "cpu",
   "language": "python",
   "name": "python3"
  },
  "language_info": {
   "codemirror_mode": {
    "name": "ipython",
    "version": 3
   },
   "file_extension": ".py",
   "mimetype": "text/x-python",
   "name": "python",
   "nbconvert_exporter": "python",
   "pygments_lexer": "ipython3",
   "version": "3.12.3"
  }
 },
 "nbformat": 4,
 "nbformat_minor": 2
}
