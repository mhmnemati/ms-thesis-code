{
 "cells": [
  {
   "cell_type": "code",
   "execution_count": 1,
   "metadata": {},
   "outputs": [],
   "source": [
    "import torch as pt\n",
    "import torch.nn as T\n",
    "import torch_geometric.nn as G"
   ]
  },
  {
   "cell_type": "code",
   "execution_count": 37,
   "metadata": {},
   "outputs": [],
   "source": [
    "def aggregate_fn(aggregator, x, n_nodes, n_graphs, batch):\n",
    "    if aggregator == \"vector\":\n",
    "        return G.pool.global_mean_pool(x, batch).unsqueeze(-1)\n",
    "\n",
    "    if aggregator == \"sequence\":\n",
    "        # batch = [0[3*5], 1[2*4], 2[1*3]]\n",
    "        # batch_size = 3\n",
    "        # n_nodes = [3,2,1]\n",
    "        # n_graphs = [5,4,3]\n",
    "        # batch_old = [0,0,0,0,0,0,0,0,0,0,0,0,0,0,0, 1,1,1,1,1,1,1,1, 2,2,2] = (26)\n",
    "        # batch_new = [0,0,0,1,1,1,2,2,2,3,3,3,4,4,4, 5,5,6,6,7,7,8,8, 9,10,11] = (26)\n",
    "        # Caution: this implementation is highly optimized and complex\n",
    "        batch = pt.repeat_interleave(pt.arange(n_graphs.sum()), pt.repeat_interleave(n_nodes, n_graphs))\n",
    "        x = G.pool.global_mean_pool(x, batch)\n",
    "        splits = pt.tensor_split(x, pt.cumsum(n_graphs, dim=0)[:-1])\n",
    "        return T.utils.rnn.pad_sequence(splits, batch_first=True)"
   ]
  },
  {
   "cell_type": "code",
   "execution_count": 38,
   "metadata": {},
   "outputs": [],
   "source": [
    "x = pt.rand(30, 256)\n",
    "n_nodes = pt.tensor([3,3])\n",
    "n_graphs = pt.tensor([5,5])\n",
    "batch = pt.tensor([0,0,0,0,0,0,0,0,0,0,0,0,0,0,0, 1,1,1,1,1,1,1,1,1,1,1,1,1,1,1])\n",
    "\n",
    "x_vec = aggregate_fn(\"vector\", x, n_nodes, n_graphs, batch)\n",
    "x_seq = aggregate_fn(\"sequence\", x, n_nodes, n_graphs, batch)"
   ]
  },
  {
   "cell_type": "code",
   "execution_count": 48,
   "metadata": {},
   "outputs": [
    {
     "data": {
      "text/plain": [
       "torch.Size([2, 5, 256])"
      ]
     },
     "execution_count": 48,
     "metadata": {},
     "output_type": "execute_result"
    }
   ],
   "source": [
    "gru = T.GRU(input_size=256, hidden_size=128, num_layers=3, bidirectional=True, batch_first=True, dropout=0.3)\n",
    "\n",
    "x, h = gru(x_seq)\n",
    "\n",
    "x.shape"
   ]
  },
  {
   "cell_type": "code",
   "execution_count": 31,
   "metadata": {},
   "outputs": [
    {
     "data": {
      "text/plain": [
       "torch.Size([2, 5, 256])"
      ]
     },
     "execution_count": 31,
     "metadata": {},
     "output_type": "execute_result"
    }
   ],
   "source": [
    "x_seq.shape"
   ]
  },
  {
   "cell_type": "code",
   "execution_count": null,
   "metadata": {},
   "outputs": [],
   "source": [
    "import mne\n",
    "import numpy as np\n",
    "import networkx as nx\n",
    "import matplotlib.pyplot as plt\n",
    "from torch_geometric.utils import to_networkx\n",
    "\n",
    "from models import Brain2Vec, Brain2Seq\n",
    "from data import TensorDataset"
   ]
  },
  {
   "cell_type": "code",
   "execution_count": null,
   "metadata": {},
   "outputs": [],
   "source": [
    "transform = Brain2Vec(\n",
    "        n_times=256,\n",
    "        n_outputs=1,\n",
    "        loss_fn=\"ce\",\n",
    "        signal_transform=\"raw\",\n",
    "        node_transform=\"unipolar\",\n",
    "        edge_select=\"dynamic_lt\",\n",
    "        threshold=-0.5,\n",
    "        gru_size=128\n",
    ").transform\n",
    "\n",
    "ds_raw = TensorDataset(name=\"chb_mit_window_1\", split=\"train\", method=\"kfold\", folds=5, k=-1, transform=lambda x: x)\n",
    "ds_data = TensorDataset(name=\"chb_mit_window_1\", split=\"train\", method=\"kfold\", folds=5, k=-1, transform=transform)\n",
    "\n",
    "idx = 60\n",
    "for i in range(25):\n",
    "    g = to_networkx(ds_data[i+idx], node_attrs=[\"x\"], graph_attrs=[\"node_positions\"], to_undirected=True)\n",
    "\n",
    "    x = nx.get_node_attributes(g, \"x\")\n",
    "    pos = {key: g.graph[\"node_positions\"][key][:2] for key, _ in x.items()}\n",
    "\n",
    "    raw = mne.io.RawArray(\n",
    "        data=ds_raw[i+idx][\"data\"],\n",
    "        info=mne.create_info(sfreq=256, ch_names=ds_raw[i+idx][\"ch_names\"])\n",
    "    )\n",
    "    \n",
    "    raw.plot(bgcolor=(\"tomato\" if ds_raw[i+idx][\"labels\"][0] == 1 else \"white\"))\n",
    "\n",
    "    fig = plt.figure(figsize=(12, 12), facecolor=(\"tomato\" if ds_raw[i+idx][\"labels\"][0] == 1 else \"white\"))\n",
    "    nx.draw_networkx(\n",
    "        g,\n",
    "        pos=pos,\n",
    "        node_size=700,\n",
    "        node_color=[np.linalg.norm(x[key]) for key, _ in pos.items()]\n",
    "    )\n",
    "    nx.draw_networkx_labels(\n",
    "        g,\n",
    "        pos={key: [val[0]-0.00, val[1]+0.007] for key, val in pos.items()},\n",
    "        labels={key: f\"{np.linalg.norm(x[key]):0.2f}\" for key, _ in pos.items()}\n",
    "    )\n",
    "    fig.show()"
   ]
  },
  {
   "cell_type": "code",
   "execution_count": null,
   "metadata": {},
   "outputs": [],
   "source": [
    "ds = TensorDataset(name=\"chb_mit_window_5\", split=\"train\", method=\"kfold\", folds=5, k=-1, transform=Brain2Vec(\n",
    "        n_times=256,\n",
    "        n_outputs=1,\n",
    "        loss_fn=\"ce\",\n",
    "        signal_transform=\"wavelet\",\n",
    "        node_transform=\"unipolar\",\n",
    "        edge_select=\"dynamic\",\n",
    "        threshold=0.5,\n",
    "        gru_size=128,\n",
    ").transform)\n",
    "\n",
    "fig, ax = plt.subplots(3, 3, figsize=(36, 36))\n",
    "fig.tight_layout()\n",
    "\n",
    "for i in range(9):\n",
    "    g = to_networkx(ds[i+50], node_attrs=[\"x\"], graph_attrs=[\"node_positions\"], to_undirected=True)\n",
    "\n",
    "    x = nx.get_node_attributes(g, \"x\")\n",
    "    pos = {key: g.graph[\"node_positions\"][key][:2] for key, _ in x.items()}\n",
    "\n",
    "    axi = ax[int(i / len(ax))][i % len(ax)]\n",
    "\n",
    "    if ds[i].y.item() == 1:\n",
    "        axi.set_facecolor(\"tomato\")\n",
    "\n",
    "    nx.draw_networkx(\n",
    "        g,\n",
    "        ax=axi,\n",
    "        pos=pos,\n",
    "        node_size=700,\n",
    "        node_color=[np.linalg.norm(x[key]) for key, _ in pos.items()]\n",
    "    )\n",
    "    nx.draw_networkx_labels(\n",
    "        g,\n",
    "        ax=axi,\n",
    "        pos={key: [val[0]-0.00, val[1]+0.007] for key, val in pos.items()},\n",
    "        labels={key: f\"{np.linalg.norm(x[key]):0.2f}\" for key, _ in pos.items()}\n",
    "    )\n",
    "\n",
    "fig.show()"
   ]
  },
  {
   "cell_type": "code",
   "execution_count": null,
   "metadata": {},
   "outputs": [],
   "source": [
    "ds = TensorDataset(name=\"chb_mit_window_5\", split=\"train\", method=\"kfold\", folds=5, k=-1, transform=Brain2Seq(\n",
    "        n_times=256,\n",
    "        n_outputs=1,\n",
    "        loss_fn=\"ce\",\n",
    "        signal_transform=\"wavelet\",\n",
    "        node_transform=\"unipolar\",\n",
    "        edge_select=\"dynamic_lt\",\n",
    "        threshold=0.5,\n",
    "        gru_size=128,\n",
    ").transform)\n",
    "\n",
    "fig, ax = plt.subplots(5, 1, figsize=(70, 70))\n",
    "fig.tight_layout()\n",
    "\n",
    "for i in range(5):\n",
    "    g = to_networkx(ds[i+50], node_attrs=[\"x\"], graph_attrs=[\"n_nodes\", \"n_graphs\", \"node_positions\"], to_undirected=True)\n",
    "\n",
    "    x = nx.get_node_attributes(g, \"x\")\n",
    "    size = g.graph[\"n_nodes\"]\n",
    "    length = g.graph[\"n_graphs\"]\n",
    "    pos = {key: g.graph[\"node_positions\"][key % size][:2] + np.array([int(key / size) * 0.2, int(key / size) * 0.00]) for key, _ in x.items()}\n",
    "\n",
    "    axi = ax[i]\n",
    "\n",
    "    if ds[i].y.item() == 1:\n",
    "        axi.set_facecolor(\"tomato\")\n",
    "\n",
    "    nx.draw_networkx(\n",
    "        g,\n",
    "        ax=axi,\n",
    "        pos=pos,\n",
    "        node_size=700,\n",
    "        node_color=[np.linalg.norm(x[key]) for key, _ in pos.items()]\n",
    "    )\n",
    "    nx.draw_networkx_labels(\n",
    "        g,\n",
    "        ax=axi,\n",
    "        pos={key: [val[0]-0.00, val[1]+0.007] for key, val in pos.items()},\n",
    "        labels={key: f\"{np.linalg.norm(x[key]):0.2f}\" for key, _ in pos.items()}\n",
    "    )\n",
    "\n",
    "fig.show()"
   ]
  },
  {
   "cell_type": "code",
   "execution_count": null,
   "metadata": {},
   "outputs": [],
   "source": [
    "ds = TensorDataset(name=\"chb_mit_window_30\", split=\"train\", method=\"kfold\", folds=5, k=-1, transform=Brain2Seq(\n",
    "        n_times=256,\n",
    "        n_outputs=1,\n",
    "        loss_fn=\"ce\",\n",
    "        signal_transform=\"wavelet\",\n",
    "        node_transform=\"unipolar\",\n",
    "        edge_select=\"dynamic\",\n",
    "        threshold=0.5,\n",
    ").transform)\n",
    "\n",
    "fig, ax = plt.subplots(5, 1, figsize=(420, 70))\n",
    "fig.tight_layout()\n",
    "\n",
    "for i in range(5):\n",
    "    g = to_networkx(ds[i+50], node_attrs=[\"x\"], graph_attrs=[\"graph_size\", \"graph_length\", \"node_positions\"], to_undirected=True)\n",
    "\n",
    "    x = nx.get_node_attributes(g, \"x\")\n",
    "    size = g.graph[\"graph_size\"]\n",
    "    length = g.graph[\"graph_length\"]\n",
    "    pos = {key: g.graph[\"node_positions\"][key % size][:2] + np.array([int(key / size) * 0.2, int(key / size) * 0.00]) for key, _ in x.items()}\n",
    "\n",
    "    axi = ax[i]\n",
    "\n",
    "    if ds[i].y.item() == 1:\n",
    "        axi.set_facecolor(\"tomato\")\n",
    "\n",
    "    nx.draw_networkx(\n",
    "        g,\n",
    "        ax=axi,\n",
    "        pos=pos,\n",
    "        node_size=700,\n",
    "        node_color=[np.linalg.norm(x[key]) for key, _ in pos.items()]\n",
    "    )\n",
    "    nx.draw_networkx_labels(\n",
    "        g,\n",
    "        ax=axi,\n",
    "        pos={key: [val[0]-0.00, val[1]+0.007] for key, val in pos.items()},\n",
    "        labels={key: f\"{np.linalg.norm(x[key]):0.2f}\" for key, _ in pos.items()}\n",
    "    )\n",
    "\n",
    "fig.show()"
   ]
  }
 ],
 "metadata": {
  "kernelspec": {
   "display_name": "Python 3",
   "language": "python",
   "name": "python3"
  },
  "language_info": {
   "codemirror_mode": {
    "name": "ipython",
    "version": 3
   },
   "file_extension": ".py",
   "mimetype": "text/x-python",
   "name": "python",
   "nbconvert_exporter": "python",
   "pygments_lexer": "ipython3",
   "version": "3.10.14"
  }
 },
 "nbformat": 4,
 "nbformat_minor": 2
}
